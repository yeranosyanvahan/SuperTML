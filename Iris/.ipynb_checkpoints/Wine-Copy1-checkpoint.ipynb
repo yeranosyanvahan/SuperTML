{
 "cells": [
  {
   "cell_type": "code",
   "execution_count": 1,
   "metadata": {},
   "outputs": [],
   "source": [
    "import matplotlib.pyplot as plt\n",
    "\n",
    "import numpy as np\n",
    "import pandas as pd\n",
    "import sklearn\n",
    "from sklearn.datasets import make_regression as MR\n",
    "from sklearn.linear_model import LinearRegression as LR, Lasso as LLR\n",
    "from sklearn.model_selection import train_test_split, KFold, cross_val_score\n",
    "\n",
    "import torch\n",
    "import torch.nn as nn\n",
    "import torch.optim as optim\n",
    "import torch.nn.functional as F \n",
    "\n",
    "import torchvision\n",
    "from torchvision import *\n",
    "from torch.nn import *\n",
    "from NN import NN\n",
    "\n",
    "from PIL import Image, ImageDraw, ImageFont\n",
    "from tqdm import tqdm\n",
    " \n",
    "from sklearn import datasets\n",
    "from random import shuffle\n"
   ]
  },
  {
   "cell_type": "code",
   "execution_count": 2,
   "metadata": {
    "id": "MzpLscAXR8qu"
   },
   "outputs": [],
   "source": [
    "wine = datasets.load_iris()"
   ]
  },
  {
   "cell_type": "code",
   "execution_count": 3,
   "metadata": {
    "id": "pIWfHXsYSIr-"
   },
   "outputs": [],
   "source": [
    "X=wine['data']\n",
    "Y=wine['target']"
   ]
  },
  {
   "cell_type": "code",
   "execution_count": 4,
   "metadata": {},
   "outputs": [],
   "source": [
    "def sampletoimage(sample):\n",
    " img =  Image.fromarray(np.zeros((252,252)).astype('uint8'))\n",
    " draw = ImageDraw.Draw(img)    \n",
    " for f,s,g in zip(font_size,sample,grid):\n",
    "  font = ImageFont.truetype(\"./font.ttf\", size=f)\n",
    "  draw.text(g,str(s),font=font, fill='white')\n",
    "\n",
    " return [np.array(img) for _ in range(3)]"
   ]
  },
  {
   "cell_type": "code",
   "execution_count": 6,
   "metadata": {},
   "outputs": [],
   "source": [
    "font_size=35\n",
    "grid=[(50,50),(50,100),(100,50),(50,50)"
   ]
  },
  {
   "cell_type": "code",
   "execution_count": 7,
   "metadata": {},
   "outputs": [
    {
     "ename": "NameError",
     "evalue": "name 'grid' is not defined",
     "output_type": "error",
     "traceback": [
      "\u001b[1;31m---------------------------------------------------------------------------\u001b[0m",
      "\u001b[1;31mNameError\u001b[0m                                 Traceback (most recent call last)",
      "\u001b[1;32m<ipython-input-7-d543009e8acb>\u001b[0m in \u001b[0;36m<module>\u001b[1;34m\u001b[0m\n\u001b[1;32m----> 1\u001b[1;33m \u001b[0mX\u001b[0m\u001b[1;33m=\u001b[0m\u001b[0mnp\u001b[0m\u001b[1;33m.\u001b[0m\u001b[0marray\u001b[0m\u001b[1;33m(\u001b[0m\u001b[0mlist\u001b[0m\u001b[1;33m(\u001b[0m\u001b[0mmap\u001b[0m\u001b[1;33m(\u001b[0m\u001b[0msampletoimage\u001b[0m\u001b[1;33m,\u001b[0m\u001b[0mX\u001b[0m\u001b[1;33m)\u001b[0m\u001b[1;33m)\u001b[0m\u001b[1;33m)\u001b[0m\u001b[1;33m\u001b[0m\u001b[1;33m\u001b[0m\u001b[0m\n\u001b[0m",
      "\u001b[1;32m<ipython-input-4-6f85e55f1614>\u001b[0m in \u001b[0;36msampletoimage\u001b[1;34m(sample)\u001b[0m\n\u001b[0;32m      2\u001b[0m  \u001b[0mimg\u001b[0m \u001b[1;33m=\u001b[0m  \u001b[0mImage\u001b[0m\u001b[1;33m.\u001b[0m\u001b[0mfromarray\u001b[0m\u001b[1;33m(\u001b[0m\u001b[0mnp\u001b[0m\u001b[1;33m.\u001b[0m\u001b[0mzeros\u001b[0m\u001b[1;33m(\u001b[0m\u001b[1;33m(\u001b[0m\u001b[1;36m252\u001b[0m\u001b[1;33m,\u001b[0m\u001b[1;36m252\u001b[0m\u001b[1;33m)\u001b[0m\u001b[1;33m)\u001b[0m\u001b[1;33m.\u001b[0m\u001b[0mastype\u001b[0m\u001b[1;33m(\u001b[0m\u001b[1;34m'uint8'\u001b[0m\u001b[1;33m)\u001b[0m\u001b[1;33m)\u001b[0m\u001b[1;33m\u001b[0m\u001b[1;33m\u001b[0m\u001b[0m\n\u001b[0;32m      3\u001b[0m  \u001b[0mdraw\u001b[0m \u001b[1;33m=\u001b[0m \u001b[0mImageDraw\u001b[0m\u001b[1;33m.\u001b[0m\u001b[0mDraw\u001b[0m\u001b[1;33m(\u001b[0m\u001b[0mimg\u001b[0m\u001b[1;33m)\u001b[0m\u001b[1;33m\u001b[0m\u001b[1;33m\u001b[0m\u001b[0m\n\u001b[1;32m----> 4\u001b[1;33m  \u001b[1;32mfor\u001b[0m \u001b[0mf\u001b[0m\u001b[1;33m,\u001b[0m\u001b[0ms\u001b[0m\u001b[1;33m,\u001b[0m\u001b[0mg\u001b[0m \u001b[1;32min\u001b[0m \u001b[0mzip\u001b[0m\u001b[1;33m(\u001b[0m\u001b[0mfont_size\u001b[0m\u001b[1;33m,\u001b[0m\u001b[0msample\u001b[0m\u001b[1;33m,\u001b[0m\u001b[0mgrid\u001b[0m\u001b[1;33m)\u001b[0m\u001b[1;33m:\u001b[0m\u001b[1;33m\u001b[0m\u001b[1;33m\u001b[0m\u001b[0m\n\u001b[0m\u001b[0;32m      5\u001b[0m   \u001b[0mfont\u001b[0m \u001b[1;33m=\u001b[0m \u001b[0mImageFont\u001b[0m\u001b[1;33m.\u001b[0m\u001b[0mtruetype\u001b[0m\u001b[1;33m(\u001b[0m\u001b[1;34m\"./font.ttf\"\u001b[0m\u001b[1;33m,\u001b[0m \u001b[0msize\u001b[0m\u001b[1;33m=\u001b[0m\u001b[0mf\u001b[0m\u001b[1;33m)\u001b[0m\u001b[1;33m\u001b[0m\u001b[1;33m\u001b[0m\u001b[0m\n\u001b[0;32m      6\u001b[0m   \u001b[0mdraw\u001b[0m\u001b[1;33m.\u001b[0m\u001b[0mtext\u001b[0m\u001b[1;33m(\u001b[0m\u001b[0mg\u001b[0m\u001b[1;33m,\u001b[0m\u001b[0mstr\u001b[0m\u001b[1;33m(\u001b[0m\u001b[0ms\u001b[0m\u001b[1;33m)\u001b[0m\u001b[1;33m,\u001b[0m\u001b[0mfont\u001b[0m\u001b[1;33m=\u001b[0m\u001b[0mfont\u001b[0m\u001b[1;33m,\u001b[0m \u001b[0mfill\u001b[0m\u001b[1;33m=\u001b[0m\u001b[1;34m'white'\u001b[0m\u001b[1;33m)\u001b[0m\u001b[1;33m\u001b[0m\u001b[1;33m\u001b[0m\u001b[0m\n",
      "\u001b[1;31mNameError\u001b[0m: name 'grid' is not defined"
     ]
    }
   ],
   "source": [
    "X=np.array(list(map(sampletoimage,X)))"
   ]
  },
  {
   "cell_type": "code",
   "execution_count": null,
   "metadata": {},
   "outputs": [],
   "source": [
    "plt.imshow(X[3,0])"
   ]
  },
  {
   "cell_type": "markdown",
   "metadata": {
    "id": "PiNNErAgiTAk"
   },
   "source": [
    "### Neural Network"
   ]
  },
  {
   "cell_type": "code",
   "execution_count": 9,
   "metadata": {},
   "outputs": [],
   "source": [
    "device='cuda:0'\n",
    "net = NN(model=models.resnet18(pretrained=True),\n",
    "         cut=1,\n",
    "         add=Sequential(Linear(512,3),Softmax(dim=1)),\n",
    "         gradients=8)\n",
    "net=net.to(device)"
   ]
  },
  {
   "cell_type": "code",
   "execution_count": null,
   "metadata": {},
   "outputs": [
    {
     "name": "stdout",
     "output_type": "stream",
     "text": [
      "-----      TRAIN RESULTS      -----\n",
      "{'Epoch': 1.0, 'Accuracy': 0.328125, 'Loss': 1.0971736311912537}\n",
      "-----      Validation  RESULTS     -----\n",
      "{'Epoch': 1.0, 'Accuracy': 0.3611111111111111, 'Loss': 1.108392533328798}\n",
      "-----      TRAIN RESULTS      -----\n",
      "{'Epoch': 2.0, 'Accuracy': 0.3984375, 'Loss': 1.0576314330101013}\n",
      "-----      Validation  RESULTS     -----\n",
      "{'Epoch': 2.0, 'Accuracy': 0.3333333333333333, 'Loss': 1.0945547040965822}\n",
      "-----      TRAIN RESULTS      -----\n",
      "{'Epoch': 3.0, 'Accuracy': 0.6953125, 'Loss': 0.9824026674032211}\n",
      "-----      Validation  RESULTS     -----\n",
      "{'Epoch': 3.0, 'Accuracy': 0.4444444444444444, 'Loss': 1.066115175684293}\n",
      "-----      TRAIN RESULTS      -----\n",
      "{'Epoch': 4.0, 'Accuracy': 0.875, 'Loss': 0.9092163592576981}\n",
      "-----      Validation  RESULTS     -----\n",
      "{'Epoch': 4.0, 'Accuracy': 0.3611111111111111, 'Loss': 1.0241030322180853}\n",
      "-----      TRAIN RESULTS      -----\n",
      "{'Epoch': 5.0, 'Accuracy': 0.8984375, 'Loss': 0.814295768737793}\n",
      "-----      Validation  RESULTS     -----\n",
      "{'Epoch': 5.0, 'Accuracy': 0.7777777777777778, 'Loss': 0.9282290935516357}\n",
      "-----      TRAIN RESULTS      -----\n",
      "{'Epoch': 6.0, 'Accuracy': 0.9296875, 'Loss': 0.758600041270256}\n",
      "-----      Validation  RESULTS     -----\n",
      "{'Epoch': 6.0, 'Accuracy': 0.6666666666666666, 'Loss': 0.8988933761914571}\n",
      "-----      TRAIN RESULTS      -----\n",
      "{'Epoch': 7.0, 'Accuracy': 0.9765625, 'Loss': 0.6801429837942123}\n",
      "-----      Validation  RESULTS     -----\n",
      "{'Epoch': 7.0, 'Accuracy': 0.7777777777777778, 'Loss': 0.832598649793201}\n",
      "-----      TRAIN RESULTS      -----\n",
      "{'Epoch': 8.0, 'Accuracy': 0.96875, 'Loss': 0.6440918296575546}\n",
      "-----      Validation  RESULTS     -----\n",
      "{'Epoch': 8.0, 'Accuracy': 0.6944444444444444, 'Loss': 0.8240087015761269}\n",
      "-----      TRAIN RESULTS      -----\n",
      "{'Epoch': 9.0, 'Accuracy': 0.984375, 'Loss': 0.6177121102809906}\n",
      "-----      Validation  RESULTS     -----\n",
      "{'Epoch': 9.0, 'Accuracy': 0.7777777777777778, 'Loss': 0.7904100020726522}\n",
      "-----      TRAIN RESULTS      -----\n",
      "{'Epoch': 10.0, 'Accuracy': 0.984375, 'Loss': 0.6005434840917587}\n",
      "-----      Validation  RESULTS     -----\n",
      "{'Epoch': 10.0, 'Accuracy': 0.7777777777777778, 'Loss': 0.7793630841705534}\n",
      "-----      TRAIN RESULTS      -----\n",
      "{'Epoch': 11.0, 'Accuracy': 0.9921875, 'Loss': 0.58493772149086}\n",
      "-----      Validation  RESULTS     -----\n",
      "{'Epoch': 11.0, 'Accuracy': 0.8333333333333334, 'Loss': 0.763513101471795}\n",
      "-----      TRAIN RESULTS      -----\n",
      "{'Epoch': 12.0, 'Accuracy': 0.9921875, 'Loss': 0.5771394968032837}\n",
      "-----      Validation  RESULTS     -----\n",
      "{'Epoch': 12.0, 'Accuracy': 0.8333333333333334, 'Loss': 0.758677515718672}\n",
      "-----      TRAIN RESULTS      -----\n",
      "{'Epoch': 13.0, 'Accuracy': 0.9921875, 'Loss': 0.5774045437574387}\n",
      "-----      Validation  RESULTS     -----\n",
      "{'Epoch': 13.0, 'Accuracy': 0.8055555555555556, 'Loss': 0.759239579240481}\n",
      "-----      TRAIN RESULTS      -----\n",
      "{'Epoch': 14.0, 'Accuracy': 1.0, 'Loss': 0.5747296214103699}\n",
      "-----      Validation  RESULTS     -----\n",
      "{'Epoch': 14.0, 'Accuracy': 0.8055555555555556, 'Loss': 0.7491628693209754}\n",
      "-----      TRAIN RESULTS      -----\n",
      "{'Epoch': 15.0, 'Accuracy': 0.9921875, 'Loss': 0.5679069459438324}\n",
      "-----      Validation  RESULTS     -----\n",
      "{'Epoch': 15.0, 'Accuracy': 0.8055555555555556, 'Loss': 0.7449340257379744}\n",
      "-----      TRAIN RESULTS      -----\n",
      "{'Epoch': 16.0, 'Accuracy': 0.9921875, 'Loss': 0.5634438991546631}\n",
      "-----      Validation  RESULTS     -----\n",
      "{'Epoch': 16.0, 'Accuracy': 0.8055555555555556, 'Loss': 0.742878794670105}\n",
      "-----      TRAIN RESULTS      -----\n",
      "{'Epoch': 17.0, 'Accuracy': 1.0, 'Loss': 0.560725674033165}\n",
      "-----      Validation  RESULTS     -----\n",
      "{'Epoch': 17.0, 'Accuracy': 0.8055555555555556, 'Loss': 0.7383089694711897}\n",
      "-----      TRAIN RESULTS      -----\n",
      "{'Epoch': 18.0, 'Accuracy': 1.0, 'Loss': 0.5597062408924103}\n"
     ]
    }
   ],
   "source": [
    "X_train, X_test, Y_train, Y_test = train_test_split(X, Y, test_size=0.2, random_state=11, shuffle=True)\n",
    "X_train, X_val, Y_train, Y_val = train_test_split(X, Y, test_size=0.2, random_state=1, shuffle=True)\n",
    "\n",
    "train_data = torch.utils.data.DataLoader(list(zip(X_train,Y_train)), batch_size=32, shuffle=True, drop_last=True,num_workers=2)\n",
    "validation_data = torch.utils.data.DataLoader(list(zip(X_val,Y_val)),batch_size=1,num_workers=2) \n",
    "\n",
    "criterion = nn.CrossEntropyLoss()\n",
    "optimizer = optim.SGD(net.parameters(), lr=0.01, momentum=0.9)\n",
    "\n",
    "net.optimization(criterion,optimizer)\n",
    "Train_stats, Test_stats = net.TRAIN(train_data,validation_data, \n",
    "                                    epochs=30, \n",
    "                                    batch_size=32,\n",
    "                                    verbose=1,\n",
    "                                    random_seed=1,\n",
    "                                    device=device)\n",
    "\n",
    "net.save()"
   ]
  },
  {
   "cell_type": "markdown",
   "metadata": {},
   "source": [
    "## Visualization"
   ]
  },
  {
   "cell_type": "code",
   "execution_count": null,
   "metadata": {},
   "outputs": [],
   "source": [
    "C=net.confusion_matrix(X_val,Y_val,heatmap=True)"
   ]
  },
  {
   "cell_type": "code",
   "execution_count": null,
   "metadata": {
    "scrolled": false
   },
   "outputs": [],
   "source": [
    "net.plot('Accuracy')\n",
    "net.plot('Loss')"
   ]
  },
  {
   "cell_type": "markdown",
   "metadata": {},
   "source": [
    "### TESTING OUR PERFORMANCE"
   ]
  },
  {
   "cell_type": "code",
   "execution_count": null,
   "metadata": {},
   "outputs": [],
   "source": [
    "net.confusion_matrix(X_test,Y_test,heatmap=True)"
   ]
  },
  {
   "cell_type": "code",
   "execution_count": null,
   "metadata": {
    "scrolled": true
   },
   "outputs": [],
   "source": [
    "net.score(X_test,Y_test)"
   ]
  }
 ],
 "metadata": {
  "colab": {
   "collapsed_sections": [],
   "name": "Copy of IRIS.ipynb",
   "provenance": [],
   "toc_visible": true
  },
  "kernelspec": {
   "display_name": "Python 3",
   "language": "python",
   "name": "python3"
  },
  "language_info": {
   "codemirror_mode": {
    "name": "ipython",
    "version": 3
   },
   "file_extension": ".py",
   "mimetype": "text/x-python",
   "name": "python",
   "nbconvert_exporter": "python",
   "pygments_lexer": "ipython3",
   "version": "3.8.5"
  }
 },
 "nbformat": 4,
 "nbformat_minor": 1
}
