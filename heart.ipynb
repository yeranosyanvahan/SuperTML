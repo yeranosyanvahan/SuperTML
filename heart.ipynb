{
 "cells": [
  {
   "cell_type": "code",
   "execution_count": 30,
   "id": "80684c47",
   "metadata": {},
   "outputs": [],
   "source": [
    "import pandas as pd\n",
    "from PIL import Image, ImageDraw, ImageFont\n",
    "from tqdm import tqdm\n",
    "import numpy as np\n",
    "from matplotlib import pyplot as plt\n",
    "\n",
    "\n",
    "def sampletoimage(sample):\n",
    " img =  Image.fromarray(np.zeros((255,255)).astype('uint8'))\n",
    " draw = ImageDraw.Draw(img)    \n",
    " for f,s,g in zip(font_size,sample,grid):\n",
    "  font = ImageFont.truetype(\"./LiberationMono-Bold.ttf\", size=f)\n",
    "  draw.text(g,str(s),font=font, fill='white')\n",
    "\n",
    " return [np.array(img) for _ in range(3)]"
   ]
  },
  {
   "cell_type": "code",
   "execution_count": 31,
   "id": "6595e2cc",
   "metadata": {},
   "outputs": [],
   "source": [
    "def SSUM(df,columns):\n",
    "    if(columns  != []):\n",
    "        return (df[columns[0]]+SSUM(df,columns[1:]))\n",
    "    return ''\n",
    "\n",
    "categoricals=['sex','cp','fbs','restecg','exng','slp','caa','thall']\n",
    "df=pd.read_csv('heart.csv')\n",
    "X=df.drop(['output'],axis=1).applymap(str)\n",
    "Y=df[['output']].to_numpy()\n",
    "\n",
    "X['categoricals']=SSUM(X,categoricals)\n",
    "X=X.drop(categoricals,axis=1).to_numpy()[:,::-1]\n",
    "\n"
   ]
  },
  {
   "cell_type": "code",
   "execution_count": 3,
   "id": "1db4e941",
   "metadata": {},
   "outputs": [],
   "source": [
    "grid=[(0,0),(0,65),(0,130),(0,195),(140,100),(140,175)]\n",
    "font_size=[50]*6"
   ]
  },
  {
   "cell_type": "code",
   "execution_count": 4,
   "id": "ef74e992",
   "metadata": {},
   "outputs": [],
   "source": [
    "X=np.array(list(map(sampletoimage,X)))"
   ]
  },
  {
   "cell_type": "code",
   "execution_count": 5,
   "id": "1397d96c",
   "metadata": {},
   "outputs": [
    {
     "data": {
      "text/plain": [
       "<matplotlib.image.AxesImage at 0x291d1840250>"
      ]
     },
     "execution_count": 5,
     "metadata": {},
     "output_type": "execute_result"
    },
    {
     "data": {
      "image/png": "[encoded data removed]",
      "text/plain": [
       "<Figure size 432x288 with 1 Axes>"
      ]
     },
     "metadata": {
      "needs_background": "light"
     },
     "output_type": "display_data"
    }
   ],
   "source": [
    "plt.imshow(X[5,0])"
   ]
  },
  {
   "cell_type": "code",
   "execution_count": 6,
   "id": "1d5b3c3d",
   "metadata": {},
   "outputs": [],
   "source": [
    "import torch.nn as nn\n",
    "from torchvision import models\n",
    "\n",
    "def resnet18update(net, only_last = True):\n",
    "   if only_last:\n",
    "      for name, param in net.named_parameters():\n",
    "        if 'fc' not in name and 'act' not in name: param.requires_grad = False  # freezing all except classifier\n",
    "      for name, param in net.layer4[1].named_parameters():\n",
    "        param.requires_grad = True   # unfreezing last sub-block\n",
    "   else:\n",
    "      for name, param in net.named_parameters():\n",
    "          if 'layer4' not in name:\n",
    "              param.requires_grad = False\n",
    "          else:\n",
    "              break\n",
    "   for name, param in net.named_parameters():\n",
    "        if param.requires_grad: print(name)"
   ]
  },
  {
   "cell_type": "code",
   "execution_count": 7,
   "id": "65c8dcbc",
   "metadata": {},
   "outputs": [],
   "source": [
    "import torch\n",
    "import torch.nn as nn\n",
    "import torch.optim as optim\n",
    "import torch.nn.functional as F \n",
    "import numpy as np\n",
    "import torchvision\n",
    "from torchvision import *\n",
    "\n",
    "def accuracy(out, labels):\n",
    "    _,pred = torch.max(out, dim=1)\n",
    "    return torch.sum(pred==labels).item()"
   ]
  },
  {
   "cell_type": "code",
   "execution_count": 8,
   "id": "bad670ba",
   "metadata": {
    "scrolled": true
   },
   "outputs": [
    {
     "name": "stdout",
     "output_type": "stream",
     "text": [
      "layer4.1.conv1.weight\n",
      "layer4.1.bn1.weight\n",
      "layer4.1.bn1.bias\n",
      "layer4.1.conv2.weight\n",
      "layer4.1.bn2.weight\n",
      "layer4.1.bn2.bias\n",
      "fc.weight\n",
      "fc.bias\n",
      "-----      TRAIN RESULTS      -----\n",
      "{'Epoch': 1.0, 'Accuracy': 0.4791666666666667, 'Loss': 0.6924148797988892}\n",
      "-----      TEST  RESULTS     -----\n",
      "{'Epoch': 1.0, 'Accuracy': 0.42622947692871094, 'Loss': 0.8668371438980103}\n",
      "-----      TRAIN RESULTS      -----\n",
      "{'Epoch': 2.0, 'Accuracy': 0.5729166666666666, 'Loss': 0.7028374870618185}\n",
      "-----      TEST  RESULTS     -----\n",
      "{'Epoch': 2.0, 'Accuracy': 0.42622947692871094, 'Loss': 0.8546700477600098}\n",
      "-----      TRAIN RESULTS      -----\n",
      "{'Epoch': 3.0, 'Accuracy': 0.59375, 'Loss': 0.6711445649464926}\n",
      "-----      TEST  RESULTS     -----\n",
      "{'Epoch': 3.0, 'Accuracy': 0.42622947692871094, 'Loss': 0.7716320753097534}\n",
      "-----      TRAIN RESULTS      -----\n",
      "{'Epoch': 4.0, 'Accuracy': 0.6822916666666666, 'Loss': 0.6161982218424479}\n",
      "-----      TEST  RESULTS     -----\n",
      "{'Epoch': 4.0, 'Accuracy': 0.7049179673194885, 'Loss': 0.6328944563865662}\n",
      "-----      TRAIN RESULTS      -----\n",
      "{'Epoch': 5.0, 'Accuracy': 0.7447916666666666, 'Loss': 0.5793582598368326}\n",
      "-----      TEST  RESULTS     -----\n",
      "{'Epoch': 5.0, 'Accuracy': 0.6229507923126221, 'Loss': 0.6363181471824646}\n",
      "-----      TRAIN RESULTS      -----\n",
      "{'Epoch': 6.0, 'Accuracy': 0.6979166666666666, 'Loss': 0.5769383311271667}\n",
      "-----      TEST  RESULTS     -----\n",
      "{'Epoch': 6.0, 'Accuracy': 0.7868852019309998, 'Loss': 0.55962735414505}\n",
      "-----      TRAIN RESULTS      -----\n",
      "{'Epoch': 7.0, 'Accuracy': 0.8072916666666666, 'Loss': 0.5242653091748556}\n",
      "-----      TEST  RESULTS     -----\n",
      "{'Epoch': 7.0, 'Accuracy': 0.8196721076965332, 'Loss': 0.5311599373817444}\n",
      "-----      TRAIN RESULTS      -----\n",
      "{'Epoch': 8.0, 'Accuracy': 0.828125, 'Loss': 0.49137813846270245}\n",
      "-----      TEST  RESULTS     -----\n",
      "{'Epoch': 8.0, 'Accuracy': 0.8196721076965332, 'Loss': 0.5239719748497009}\n",
      "-----      TRAIN RESULTS      -----\n",
      "{'Epoch': 9.0, 'Accuracy': 0.8489583333333334, 'Loss': 0.4706016580263774}\n",
      "-----      TEST  RESULTS     -----\n",
      "{'Epoch': 9.0, 'Accuracy': 0.8196721076965332, 'Loss': 0.5078148245811462}\n",
      "-----      TRAIN RESULTS      -----\n",
      "{'Epoch': 10.0, 'Accuracy': 0.8541666666666666, 'Loss': 0.4589850902557373}\n",
      "-----      TEST  RESULTS     -----\n",
      "{'Epoch': 10.0, 'Accuracy': 0.8196721076965332, 'Loss': 0.4940882921218872}\n",
      "-----      TRAIN RESULTS      -----\n",
      "{'Epoch': 11.0, 'Accuracy': 0.9010416666666666, 'Loss': 0.4250936309496562}\n",
      "-----      TEST  RESULTS     -----\n",
      "{'Epoch': 11.0, 'Accuracy': 0.8196721076965332, 'Loss': 0.49445924162864685}\n",
      "-----      TRAIN RESULTS      -----\n",
      "{'Epoch': 12.0, 'Accuracy': 0.8802083333333334, 'Loss': 0.4371791183948517}\n",
      "-----      TEST  RESULTS     -----\n",
      "{'Epoch': 12.0, 'Accuracy': 0.8032786250114441, 'Loss': 0.5002002120018005}\n",
      "-----      TRAIN RESULTS      -----\n",
      "{'Epoch': 13.0, 'Accuracy': 0.9010416666666666, 'Loss': 0.4345530370871226}\n",
      "-----      TEST  RESULTS     -----\n",
      "{'Epoch': 13.0, 'Accuracy': 0.8196721076965332, 'Loss': 0.4844079911708832}\n",
      "-----      TRAIN RESULTS      -----\n",
      "{'Epoch': 14.0, 'Accuracy': 0.9270833333333334, 'Loss': 0.39724289377530414}\n",
      "-----      TEST  RESULTS     -----\n",
      "{'Epoch': 14.0, 'Accuracy': 0.8032786250114441, 'Loss': 0.484334796667099}\n",
      "-----      TRAIN RESULTS      -----\n",
      "{'Epoch': 15.0, 'Accuracy': 0.9427083333333334, 'Loss': 0.39233461022377014}\n",
      "-----      TEST  RESULTS     -----\n",
      "{'Epoch': 15.0, 'Accuracy': 0.8032786250114441, 'Loss': 0.4915026128292084}\n",
      "-----      TRAIN RESULTS      -----\n",
      "{'Epoch': 16.0, 'Accuracy': 0.9375, 'Loss': 0.3850256601969401}\n",
      "-----      TEST  RESULTS     -----\n",
      "{'Epoch': 16.0, 'Accuracy': 0.7868852019309998, 'Loss': 0.48715102672576904}\n",
      "-----      TRAIN RESULTS      -----\n",
      "{'Epoch': 17.0, 'Accuracy': 0.9583333333333334, 'Loss': 0.3803222179412842}\n",
      "-----      TEST  RESULTS     -----\n",
      "{'Epoch': 17.0, 'Accuracy': 0.8360655307769775, 'Loss': 0.478933721780777}\n",
      "-----      TRAIN RESULTS      -----\n",
      "{'Epoch': 18.0, 'Accuracy': 0.9427083333333334, 'Loss': 0.3918246229489644}\n",
      "-----      TEST  RESULTS     -----\n",
      "{'Epoch': 18.0, 'Accuracy': 0.8196721076965332, 'Loss': 0.4814210832118988}\n",
      "-----      TRAIN RESULTS      -----\n",
      "{'Epoch': 19.0, 'Accuracy': 0.96875, 'Loss': 0.36592602729797363}\n",
      "-----      TEST  RESULTS     -----\n",
      "{'Epoch': 19.0, 'Accuracy': 0.8360655307769775, 'Loss': 0.48508936166763306}\n",
      "-----      TRAIN RESULTS      -----\n",
      "{'Epoch': 20.0, 'Accuracy': 0.9635416666666666, 'Loss': 0.3732481002807617}\n",
      "-----      TEST  RESULTS     -----\n",
      "{'Epoch': 20.0, 'Accuracy': 0.8196721076965332, 'Loss': 0.4893508851528168}\n",
      "-----      TRAIN RESULTS      -----\n",
      "{'Epoch': 21.0, 'Accuracy': 0.96875, 'Loss': 0.3562775154908498}\n",
      "-----      TEST  RESULTS     -----\n",
      "{'Epoch': 21.0, 'Accuracy': 0.8524589538574219, 'Loss': 0.48036906123161316}\n",
      "-----      TRAIN RESULTS      -----\n",
      "{'Epoch': 22.0, 'Accuracy': 0.984375, 'Loss': 0.3477720419565837}\n",
      "-----      TEST  RESULTS     -----\n",
      "{'Epoch': 22.0, 'Accuracy': 0.8524589538574219, 'Loss': 0.4778764247894287}\n",
      "-----      TRAIN RESULTS      -----\n",
      "{'Epoch': 23.0, 'Accuracy': 0.9791666666666666, 'Loss': 0.3474279046058655}\n",
      "-----      TEST  RESULTS     -----\n",
      "{'Epoch': 23.0, 'Accuracy': 0.8360655307769775, 'Loss': 0.48078861832618713}\n",
      "-----      TRAIN RESULTS      -----\n",
      "{'Epoch': 24.0, 'Accuracy': 0.9791666666666666, 'Loss': 0.351035475730896}\n",
      "-----      TEST  RESULTS     -----\n",
      "{'Epoch': 24.0, 'Accuracy': 0.8196721076965332, 'Loss': 0.4834025502204895}\n",
      "-----      TRAIN RESULTS      -----\n",
      "{'Epoch': 25.0, 'Accuracy': 0.984375, 'Loss': 0.34043803811073303}\n",
      "-----      TEST  RESULTS     -----\n",
      "{'Epoch': 25.0, 'Accuracy': 0.8196721076965332, 'Loss': 0.4820084273815155}\n"
     ]
    }
   ],
   "source": [
    "def accuracy(pred,y):\n",
    "    return sum(pred==y)/len(y)\n",
    "from sklearn.metrics import precision_recall_curve, f1_score, auc, precision_score, recall_score, roc_auc_score, roc_curve\n",
    "import matplotlib.pyplot as plt\n",
    "import pandas as pd\n",
    "from statistics import mean\n",
    "from sklearn.model_selection import KFold, train_test_split\n",
    "torch.manual_seed(0)\n",
    "Train_stats=[]\n",
    "Test_stats=[]\n",
    "device='cuda:0'\n",
    "\n",
    "X_train, X_test, Y_train, Y_test = train_test_split(X, Y, test_size=0.2, random_state=10, shuffle=True)\n",
    "if(True):\n",
    " train_data = torch.utils.data.DataLoader(list(zip(X_train,Y_train)), batch_size=64, shuffle=True, drop_last=True,num_workers=2)\n",
    " validation_data = torch.utils.data.DataLoader(list(zip(X_test,Y_test)),batch_size=64,num_workers=2) \n",
    "\n",
    " net = models.resnet18(pretrained=True)\n",
    " num_features = net.fc.in_features\n",
    " net.fc= nn.Linear(num_features, 2)            \n",
    " resnet18update(net)\n",
    " net = nn.Sequential(net, nn.Softmax(1)) \n",
    " net=net.to(device)\n",
    " #loss and optim\n",
    " criterion = nn.CrossEntropyLoss()\n",
    " optimizer = optim.SGD(net.parameters(), lr=0.01, momentum=0.9)\n",
    " \n",
    " for epoch in range(25):\n",
    "    \n",
    "    Names=['Epoch','Accuracy','Loss']\n",
    "    \n",
    "    Stats={}\n",
    "    \n",
    "    Stats['Accuracy']=0\n",
    "    \n",
    "    if(True):\n",
    "     Stats=[]\n",
    "     for i, (inputs, labels) in enumerate(train_data):\n",
    "        net.train()\n",
    "        inputs = inputs.to(device, dtype=torch.float); \n",
    "        optimizer.zero_grad()\n",
    "        outputs = net(inputs)\n",
    "        labels=labels.to(device).long().squeeze_()\n",
    "        loss = criterion(outputs,labels)\n",
    "        loss.backward()\n",
    "        optimizer.step()\n",
    "\n",
    "        average='micro'\n",
    "        _,pred = torch.max(outputs, dim=1)\n",
    "        Stats.append([epoch+1,accuracy(pred,labels).item(),loss.item()])\n",
    "     Stats={key:val for key,val in zip(Names,np.mean(np.asarray(Stats).T,axis=1))}\n",
    "    \n",
    "    Train_stats.append(Stats)\n",
    "    print(\"-----      TRAIN RESULTS      -----\")\n",
    "    print(Train_stats[-1])\n",
    " \n",
    "    Stats=[]\n",
    "\n",
    "    for i, (inputs, labels) in enumerate(validation_data):\n",
    "        net.eval()\n",
    "        inputs = inputs.to(device, dtype=torch.float); \n",
    "        outputs = net(inputs)\n",
    "        labels=labels.to(device).long().squeeze_()\n",
    "        loss = criterion(outputs,labels)\n",
    "\n",
    "        _,pred = torch.max(outputs, dim=1)\n",
    "        Stats.append([epoch+1,accuracy(pred,labels).item(),loss.item()])\n",
    "    \n",
    "    Test_stats.append({key:val for key,val in zip(Names,np.mean(np.asarray(Stats).T,axis=1))})\n",
    "    print(\"-----      TEST  RESULTS     -----\")\n",
    "    print(Test_stats[-1])\n",
    " "
   ]
  },
  {
   "cell_type": "code",
   "execution_count": 9,
   "id": "9064294b",
   "metadata": {},
   "outputs": [],
   "source": [
    "Test=pd.DataFrame(Test_stats)\n",
    "Train=pd.DataFrame(Train_stats)"
   ]
  },
  {
   "cell_type": "code",
   "execution_count": 13,
   "id": "a5d1c657",
   "metadata": {},
   "outputs": [],
   "source": [
    "Test.to_csv('heart.csv',index=False)"
   ]
  },
  {
   "cell_type": "code",
   "execution_count": 11,
   "id": "7799a56e",
   "metadata": {},
   "outputs": [
    {
     "data": {
      "image/png": "[encoded data removed]",
      "text/plain": [
       "<Figure size 1440x720 with 1 Axes>"
      ]
     },
     "metadata": {
      "needs_background": "light"
     },
     "output_type": "display_data"
    }
   ],
   "source": [
    "ax=Train.plot(x='Epoch',y='Accuracy',label='Train',figsize=(20,10))\n",
    "Test.plot(x='Epoch',y='Accuracy',ax=ax,label='Test')\n",
    "ax.set_ylabel('Accuracy')\n",
    "a=1"
   ]
  },
  {
   "cell_type": "code",
   "execution_count": 12,
   "id": "17232b04",
   "metadata": {},
   "outputs": [
    {
     "data": {
      "image/png": "[encoded data removed]",
      "text/plain": [
       "<Figure size 1440x720 with 1 Axes>"
      ]
     },
     "metadata": {
      "needs_background": "light"
     },
     "output_type": "display_data"
    }
   ],
   "source": [
    "ax=Train.plot(x='Epoch',y='Loss',label='Train',figsize=(20,10))\n",
    "Test.plot(x='Epoch',y='Loss',ax=ax,label='Test')\n",
    "ax.set_ylabel('Loss')\n",
    "a=1"
   ]
  },
  {
   "cell_type": "code",
   "execution_count": 15,
   "id": "2f842eac",
   "metadata": {},
   "outputs": [
    {
     "data": {
      "text/html": [
       "<div>\n",
       "<style scoped>\n",
       "    .dataframe tbody tr th:only-of-type {\n",
       "        vertical-align: middle;\n",
       "    }\n",
       "\n",
       "    .dataframe tbody tr th {\n",
       "        vertical-align: top;\n",
       "    }\n",
       "\n",
       "    .dataframe thead th {\n",
       "        text-align: right;\n",
       "    }\n",
       "</style>\n",
       "<table border=\"1\" class=\"dataframe\">\n",
       "  <thead>\n",
       "    <tr style=\"text-align: right;\">\n",
       "      <th></th>\n",
       "      <th>Epoch</th>\n",
       "      <th>Accuracy</th>\n",
       "      <th>Loss</th>\n",
       "    </tr>\n",
       "  </thead>\n",
       "  <tbody>\n",
       "    <tr>\n",
       "      <th>0</th>\n",
       "      <td>1.0</td>\n",
       "      <td>0.426229</td>\n",
       "      <td>0.866837</td>\n",
       "    </tr>\n",
       "    <tr>\n",
       "      <th>1</th>\n",
       "      <td>2.0</td>\n",
       "      <td>0.426229</td>\n",
       "      <td>0.854670</td>\n",
       "    </tr>\n",
       "    <tr>\n",
       "      <th>2</th>\n",
       "      <td>3.0</td>\n",
       "      <td>0.426229</td>\n",
       "      <td>0.771632</td>\n",
       "    </tr>\n",
       "    <tr>\n",
       "      <th>3</th>\n",
       "      <td>4.0</td>\n",
       "      <td>0.704918</td>\n",
       "      <td>0.632894</td>\n",
       "    </tr>\n",
       "    <tr>\n",
       "      <th>4</th>\n",
       "      <td>5.0</td>\n",
       "      <td>0.622951</td>\n",
       "      <td>0.636318</td>\n",
       "    </tr>\n",
       "    <tr>\n",
       "      <th>5</th>\n",
       "      <td>6.0</td>\n",
       "      <td>0.786885</td>\n",
       "      <td>0.559627</td>\n",
       "    </tr>\n",
       "    <tr>\n",
       "      <th>6</th>\n",
       "      <td>7.0</td>\n",
       "      <td>0.819672</td>\n",
       "      <td>0.531160</td>\n",
       "    </tr>\n",
       "    <tr>\n",
       "      <th>7</th>\n",
       "      <td>8.0</td>\n",
       "      <td>0.819672</td>\n",
       "      <td>0.523972</td>\n",
       "    </tr>\n",
       "    <tr>\n",
       "      <th>8</th>\n",
       "      <td>9.0</td>\n",
       "      <td>0.819672</td>\n",
       "      <td>0.507815</td>\n",
       "    </tr>\n",
       "    <tr>\n",
       "      <th>9</th>\n",
       "      <td>10.0</td>\n",
       "      <td>0.819672</td>\n",
       "      <td>0.494088</td>\n",
       "    </tr>\n",
       "    <tr>\n",
       "      <th>10</th>\n",
       "      <td>11.0</td>\n",
       "      <td>0.819672</td>\n",
       "      <td>0.494459</td>\n",
       "    </tr>\n",
       "    <tr>\n",
       "      <th>11</th>\n",
       "      <td>12.0</td>\n",
       "      <td>0.803279</td>\n",
       "      <td>0.500200</td>\n",
       "    </tr>\n",
       "    <tr>\n",
       "      <th>12</th>\n",
       "      <td>13.0</td>\n",
       "      <td>0.819672</td>\n",
       "      <td>0.484408</td>\n",
       "    </tr>\n",
       "    <tr>\n",
       "      <th>13</th>\n",
       "      <td>14.0</td>\n",
       "      <td>0.803279</td>\n",
       "      <td>0.484335</td>\n",
       "    </tr>\n",
       "    <tr>\n",
       "      <th>14</th>\n",
       "      <td>15.0</td>\n",
       "      <td>0.803279</td>\n",
       "      <td>0.491503</td>\n",
       "    </tr>\n",
       "    <tr>\n",
       "      <th>15</th>\n",
       "      <td>16.0</td>\n",
       "      <td>0.786885</td>\n",
       "      <td>0.487151</td>\n",
       "    </tr>\n",
       "    <tr>\n",
       "      <th>16</th>\n",
       "      <td>17.0</td>\n",
       "      <td>0.836066</td>\n",
       "      <td>0.478934</td>\n",
       "    </tr>\n",
       "    <tr>\n",
       "      <th>17</th>\n",
       "      <td>18.0</td>\n",
       "      <td>0.819672</td>\n",
       "      <td>0.481421</td>\n",
       "    </tr>\n",
       "    <tr>\n",
       "      <th>18</th>\n",
       "      <td>19.0</td>\n",
       "      <td>0.836066</td>\n",
       "      <td>0.485089</td>\n",
       "    </tr>\n",
       "    <tr>\n",
       "      <th>19</th>\n",
       "      <td>20.0</td>\n",
       "      <td>0.819672</td>\n",
       "      <td>0.489351</td>\n",
       "    </tr>\n",
       "    <tr>\n",
       "      <th>20</th>\n",
       "      <td>21.0</td>\n",
       "      <td>0.852459</td>\n",
       "      <td>0.480369</td>\n",
       "    </tr>\n",
       "    <tr>\n",
       "      <th>21</th>\n",
       "      <td>22.0</td>\n",
       "      <td>0.852459</td>\n",
       "      <td>0.477876</td>\n",
       "    </tr>\n",
       "    <tr>\n",
       "      <th>22</th>\n",
       "      <td>23.0</td>\n",
       "      <td>0.836066</td>\n",
       "      <td>0.480789</td>\n",
       "    </tr>\n",
       "    <tr>\n",
       "      <th>23</th>\n",
       "      <td>24.0</td>\n",
       "      <td>0.819672</td>\n",
       "      <td>0.483403</td>\n",
       "    </tr>\n",
       "    <tr>\n",
       "      <th>24</th>\n",
       "      <td>25.0</td>\n",
       "      <td>0.819672</td>\n",
       "      <td>0.482008</td>\n",
       "    </tr>\n",
       "  </tbody>\n",
       "</table>\n",
       "</div>"
      ],
      "text/plain": [
       "    Epoch  Accuracy      Loss\n",
       "0     1.0  0.426229  0.866837\n",
       "1     2.0  0.426229  0.854670\n",
       "2     3.0  0.426229  0.771632\n",
       "3     4.0  0.704918  0.632894\n",
       "4     5.0  0.622951  0.636318\n",
       "5     6.0  0.786885  0.559627\n",
       "6     7.0  0.819672  0.531160\n",
       "7     8.0  0.819672  0.523972\n",
       "8     9.0  0.819672  0.507815\n",
       "9    10.0  0.819672  0.494088\n",
       "10   11.0  0.819672  0.494459\n",
       "11   12.0  0.803279  0.500200\n",
       "12   13.0  0.819672  0.484408\n",
       "13   14.0  0.803279  0.484335\n",
       "14   15.0  0.803279  0.491503\n",
       "15   16.0  0.786885  0.487151\n",
       "16   17.0  0.836066  0.478934\n",
       "17   18.0  0.819672  0.481421\n",
       "18   19.0  0.836066  0.485089\n",
       "19   20.0  0.819672  0.489351\n",
       "20   21.0  0.852459  0.480369\n",
       "21   22.0  0.852459  0.477876\n",
       "22   23.0  0.836066  0.480789\n",
       "23   24.0  0.819672  0.483403\n",
       "24   25.0  0.819672  0.482008"
      ]
     },
     "execution_count": 15,
     "metadata": {},
     "output_type": "execute_result"
    }
   ],
   "source": [
    "Test"
   ]
  },
  {
   "cell_type": "code",
   "execution_count": 35,
   "id": "7d459194",
   "metadata": {},
   "outputs": [],
   "source": [
    "df=pd.read_csv('heart.csv')\n",
    "X=df.drop(['output'],axis=1).to_numpy()\n",
    "Y=df[['output']].to_numpy()"
   ]
  },
  {
   "cell_type": "code",
   "execution_count": 63,
   "id": "c2a8b5ee",
   "metadata": {},
   "outputs": [],
   "source": [
    "from xgboost import XGBRegressor as XGBR\n",
    "from sklearn.metrics import log_loss as Loss\n",
    "\n",
    "X_train, X_test, Y_train, Y_test = train_test_split(X, Y, test_size=0.2, random_state=10, shuffle=True)\n",
    "model=XGBR(n_estimators = 10,n_jobs=-1).fit(X_train,Y_train)"
   ]
  },
  {
   "cell_type": "code",
   "execution_count": 59,
   "id": "1fa9b502",
   "metadata": {},
   "outputs": [],
   "source": [
    "model=XGBR(n_estimators = 10,n_jobs=-1).fit(X_train,Y_train)"
   ]
  },
  {
   "cell_type": "code",
   "execution_count": 71,
   "id": "41d2e4d4",
   "metadata": {},
   "outputs": [
    {
     "data": {
      "text/plain": [
       "0.8360655737704918"
      ]
     },
     "execution_count": 71,
     "metadata": {},
     "output_type": "execute_result"
    }
   ],
   "source": [
    "accuracy(model.predict(X_test)>0.5,Y_test.reshape(-1))"
   ]
  },
  {
   "cell_type": "code",
   "execution_count": null,
   "id": "bcfeae3e",
   "metadata": {},
   "outputs": [],
   "source": []
  },
  {
   "cell_type": "code",
   "execution_count": null,
   "id": "d52b70fa",
   "metadata": {},
   "outputs": [],
   "source": []
  },
  {
   "cell_type": "code",
   "execution_count": null,
   "id": "0b480060",
   "metadata": {},
   "outputs": [],
   "source": []
  },
  {
   "cell_type": "code",
   "execution_count": null,
   "id": "03958122",
   "metadata": {},
   "outputs": [],
   "source": []
  },
  {
   "cell_type": "code",
   "execution_count": null,
   "id": "a9b371f5",
   "metadata": {},
   "outputs": [],
   "source": []
  },
  {
   "cell_type": "code",
   "execution_count": null,
   "id": "ffdafdd6",
   "metadata": {},
   "outputs": [],
   "source": []
  },
  {
   "cell_type": "code",
   "execution_count": null,
   "id": "1b8e81fd",
   "metadata": {},
   "outputs": [],
   "source": []
  },
  {
   "cell_type": "code",
   "execution_count": null,
   "id": "9ffe239c",
   "metadata": {},
   "outputs": [],
   "source": []
  },
  {
   "cell_type": "code",
   "execution_count": null,
   "id": "6949735f",
   "metadata": {},
   "outputs": [],
   "source": []
  },
  {
   "cell_type": "code",
   "execution_count": null,
   "id": "423af4d6",
   "metadata": {},
   "outputs": [],
   "source": []
  },
  {
   "cell_type": "code",
   "execution_count": null,
   "id": "8d470f0c",
   "metadata": {},
   "outputs": [],
   "source": []
  },
  {
   "cell_type": "code",
   "execution_count": null,
   "id": "81cbc5ec",
   "metadata": {},
   "outputs": [],
   "source": []
  },
  {
   "cell_type": "code",
   "execution_count": null,
   "id": "cfb7038a",
   "metadata": {},
   "outputs": [],
   "source": []
  },
  {
   "cell_type": "code",
   "execution_count": null,
   "id": "e6b8e23a",
   "metadata": {},
   "outputs": [],
   "source": []
  },
  {
   "cell_type": "code",
   "execution_count": null,
   "id": "22a9ee0e",
   "metadata": {},
   "outputs": [],
   "source": []
  }
 ],
 "metadata": {
  "kernelspec": {
   "display_name": "Python 3",
   "language": "python",
   "name": "python3"
  },
  "language_info": {
   "codemirror_mode": {
    "name": "ipython",
    "version": 3
   },
   "file_extension": ".py",
   "mimetype": "text/x-python",
   "name": "python",
   "nbconvert_exporter": "python",
   "pygments_lexer": "ipython3",
   "version": "3.8.5"
  }
 },
 "nbformat": 4,
 "nbformat_minor": 5
}
