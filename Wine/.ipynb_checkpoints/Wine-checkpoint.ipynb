{
 "cells": [
  {
   "cell_type": "code",
   "execution_count": null,
   "metadata": {},
   "outputs": [],
   "source": [
    "import matplotlib.pyplot as plt\n",
    "\n",
    "import numpy as np\n",
    "import pandas as pd\n",
    "import sklearn\n",
    "from sklearn.datasets import make_regression as MR\n",
    "from sklearn.linear_model import LinearRegression as LR, Lasso as LLR\n",
    "from sklearn.model_selection import train_test_split, KFold, cross_val_score\n",
    "\n",
    "import torch\n",
    "import torch.nn as nn\n",
    "import torch.optim as optim\n",
    "import torch.nn.functional as F \n",
    "\n",
    "import torchvision\n",
    "from torchvision import *\n",
    "from torch.nn import *\n",
    "from NN import NN, ClassificationReport\n",
    "\n",
    "from PIL import Image, ImageDraw, ImageFont\n",
    "from tqdm import tqdm\n",
    " \n",
    "from sklearn import datasets\n",
    "from random import shuffle\n"
   ]
  },
  {
   "cell_type": "code",
   "execution_count": null,
   "metadata": {
    "id": "MzpLscAXR8qu"
   },
   "outputs": [],
   "source": [
    "wine = datasets.load_wine()"
   ]
  },
  {
   "cell_type": "code",
   "execution_count": null,
   "metadata": {
    "id": "pIWfHXsYSIr-"
   },
   "outputs": [],
   "source": [
    "X=wine['data']\n",
    "Y=wine['target']"
   ]
  },
  {
   "cell_type": "code",
   "execution_count": null,
   "metadata": {
    "scrolled": true
   },
   "outputs": [],
   "source": [
    "alphas = [np.e**(x/10) for x in range(-100,-30)]\n",
    "Scores=[]\n",
    "for alpha in alphas:\n",
    "    log_reg = LLR(alpha)\n",
    "    kfold = KFold(n_splits=10)\n",
    "    score = cross_val_score(log_reg, X[:100], Y[:100], cv = kfold)\n",
    "    Scores.append(np.mean(score))\n",
    "    \n",
    "alpha=alphas[np.argmax(Scores)]\n",
    "model=LLR(alpha).fit(X[:100], Y[:100])\n",
    "Coef=model.coef_"
   ]
  },
  {
   "cell_type": "code",
   "execution_count": null,
   "metadata": {},
   "outputs": [],
   "source": [
    "rearange=Coef.argsort()\n",
    "X=X[:,rearange[::-1]]\n",
    "font_size=np.array([40, 40, 40, 40, 40, 25, 25, 25, 25, 25, 25, 25, 25])\n",
    "grid=list(zip([0]*5+[145]*8,list(range(2,252,50))+list(range(2,252,32))))\n"
   ]
  },
  {
   "cell_type": "code",
   "execution_count": null,
   "metadata": {},
   "outputs": [],
   "source": [
    "def sampletoimage(sample):\n",
    " img =  Image.fromarray(np.zeros((255,255)).astype('uint8'))\n",
    " draw = ImageDraw.Draw(img)    \n",
    " for f,s,g in zip(font_size,sample,grid):\n",
    "  font = ImageFont.truetype(\"./font.ttf\", size=f)\n",
    "  draw.text(g,str(s),font=font, fill='white')\n",
    "\n",
    " return [np.array(img) for _ in range(3)]"
   ]
  },
  {
   "cell_type": "code",
   "execution_count": null,
   "metadata": {},
   "outputs": [],
   "source": [
    "X=np.array(list(map(sampletoimage,X)))"
   ]
  },
  {
   "cell_type": "code",
   "execution_count": null,
   "metadata": {},
   "outputs": [],
   "source": [
    "plt.imshow(X[3,0])"
   ]
  },
  {
   "cell_type": "markdown",
   "metadata": {
    "id": "PiNNErAgiTAk"
   },
   "source": [
    "### Neural Network"
   ]
  },
  {
   "cell_type": "code",
   "execution_count": null,
   "metadata": {},
   "outputs": [],
   "source": [
    "device='cuda:0'\n",
    "net = NN(model=models.resnet18(pretrained=True),\n",
    "         cut=1,\n",
    "         add=Sequential(Linear(512,100),ReLU(),Linear(100,3),Softmax(dim=1)),\n",
    "         gradients=8)\n",
    "net=net.to(device)"
   ]
  },
  {
   "cell_type": "code",
   "execution_count": null,
   "metadata": {
    "scrolled": false
   },
   "outputs": [],
   "source": [
    "X_train, X_test, Y_train, Y_test = train_test_split(X, Y, test_size=0.2, random_state=5, shuffle=True)\n",
    "X_train, X_val, Y_train, Y_val = train_test_split(X_train, Y_train, test_size=0.2, random_state=3, shuffle=True)\n",
    "batch_size=64\n",
    "train_data = torch.utils.data.DataLoader(list(zip(X_train,Y_train)), batch_size=batch_size, shuffle=True, drop_last=True,num_workers=2)\n",
    "validation_data = torch.utils.data.DataLoader(list(zip(X_val,Y_val)),batch_size=1,num_workers=2) \n",
    "\n",
    "criterion = nn.CrossEntropyLoss()\n",
    "optimizer = optim.SGD(net.parameters(), lr=0.01, momentum=0.9)\n",
    "\n",
    "net.optimization(criterion,optimizer)\n",
    "Train_stats, Test_stats = net.TRAIN(train_data,validation_data, \n",
    "                                    epochs=30, \n",
    "                                    batch_size=batch_size,\n",
    "                                    verbose=1,\n",
    "                                    random_seed=1,\n",
    "                                    device=device)\n",
    "\n",
    "\n",
    "#net.save()"
   ]
  },
  {
   "cell_type": "markdown",
   "metadata": {},
   "source": [
    "## Visualization"
   ]
  },
  {
   "cell_type": "code",
   "execution_count": null,
   "metadata": {
    "scrolled": false
   },
   "outputs": [],
   "source": [
    "net.plot('Accuracy')\n",
    "net.plot('Loss')"
   ]
  },
  {
   "cell_type": "code",
   "execution_count": null,
   "metadata": {},
   "outputs": [],
   "source": [
    "from sklearn.metrics import log_loss, roc_curve,confusion_matrix, auc"
   ]
  },
  {
   "cell_type": "code",
   "execution_count": null,
   "metadata": {},
   "outputs": [],
   "source": [
    "report=ClassificationReport(net)\n",
    "report.fit(X_val,Y_val)\n",
    "report.heatmap()"
   ]
  },
  {
   "cell_type": "code",
   "execution_count": null,
   "metadata": {},
   "outputs": [],
   "source": [
    "report.plot_ROC()"
   ]
  },
  {
   "cell_type": "code",
   "execution_count": null,
   "metadata": {},
   "outputs": [],
   "source": [
    "report.mosaic_plot()"
   ]
  },
  {
   "cell_type": "code",
   "execution_count": null,
   "metadata": {},
   "outputs": [],
   "source": [
    "report.print_AUC()"
   ]
  },
  {
   "cell_type": "code",
   "execution_count": null,
   "metadata": {},
   "outputs": [],
   "source": [
    "print(\"CROSS ENTROPY:\",report.cross_entropy())\n",
    "print(\"Accuracy:\",report.accuracy())"
   ]
  },
  {
   "cell_type": "markdown",
   "metadata": {},
   "source": [
    "### TESTING THE PERFORMANCE"
   ]
  },
  {
   "cell_type": "code",
   "execution_count": null,
   "metadata": {},
   "outputs": [],
   "source": [
    "device='cuda:0'\n",
    "net = NN(model=models.resnet18(pretrained=True),\n",
    "         cut=1,\n",
    "         add=Sequential(Linear(512,100),ReLU(),Linear(100,3),Softmax(dim=1)),\n",
    "         gradients=8)\n",
    "net=net.to(device)\n",
    "net.load()"
   ]
  },
  {
   "cell_type": "code",
   "execution_count": null,
   "metadata": {},
   "outputs": [],
   "source": [
    "report=ClassificationReport(net)\n",
    "report.fit(X_test,Y_test)\n",
    "report.heatmap()"
   ]
  },
  {
   "cell_type": "code",
   "execution_count": null,
   "metadata": {},
   "outputs": [],
   "source": [
    "report.mosaic_plot()"
   ]
  },
  {
   "cell_type": "code",
   "execution_count": null,
   "metadata": {},
   "outputs": [],
   "source": [
    "report.accuracy()"
   ]
  },
  {
   "cell_type": "code",
   "execution_count": null,
   "metadata": {},
   "outputs": [],
   "source": []
  }
 ],
 "metadata": {
  "colab": {
   "collapsed_sections": [],
   "name": "Copy of IRIS.ipynb",
   "provenance": [],
   "toc_visible": true
  },
  "kernelspec": {
   "display_name": "Python 3",
   "language": "python",
   "name": "python3"
  },
  "language_info": {
   "codemirror_mode": {
    "name": "ipython",
    "version": 3
   },
   "file_extension": ".py",
   "mimetype": "text/x-python",
   "name": "python",
   "nbconvert_exporter": "python",
   "pygments_lexer": "ipython3",
   "version": "3.8.5"
  }
 },
 "nbformat": 4,
 "nbformat_minor": 1
}
