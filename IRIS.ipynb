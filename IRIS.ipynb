{
 "cells": [
  {
   "cell_type": "code",
   "execution_count": 1,
   "metadata": {
    "id": "MzpLscAXR8qu"
   },
   "outputs": [],
   "source": [
    "from sklearn import datasets\n",
    "iris = datasets.load_iris()"
   ]
  },
  {
   "cell_type": "code",
   "execution_count": 2,
   "metadata": {
    "id": "pIWfHXsYSIr-"
   },
   "outputs": [],
   "source": [
    "X=iris['data']\n",
    "Y=iris['target']"
   ]
  },
  {
   "cell_type": "code",
   "execution_count": 3,
   "metadata": {
    "id": "yYb7W02wSRPO"
   },
   "outputs": [],
   "source": [
    "from PIL import Image, ImageDraw, ImageFont\n",
    "from tqdm import tqdm\n",
    "import numpy as np\n",
    "from matplotlib import pyplot as plt\n",
    "def data_to_image(data):\n",
    "    desire_col = 2\n",
    "    desire_row = data.shape[1]/desire_col\n",
    "    data_images = []\n",
    "    font = ImageFont.truetype(\"./LiberationMono-Bold.ttf\", size=35)\n",
    "    for dat in data:\n",
    "        background = np.zeros((255,255)).astype('uint8') #np.array([[0 for _ in range(255)] for _ in range(255)], dtype='uint8')\n",
    "        image = Image.fromarray(background)\n",
    "        draw = ImageDraw.Draw(image)\n",
    "        for c, val in enumerate(dat):\n",
    "            if len(str(val)) > 6: draw.text(((255//desire_col)*(c%desire_col), (255//desire_row)*(c//desire_col)), str(val)[:5], fill='white', font = font )\n",
    "            else: draw.text(((255//desire_col)*(c%desire_col), (255//desire_row)*(c//desire_col)), str(val) , font = font, fill='white') \n",
    "        #rgb = np.array(image, dtype='uint8')\n",
    "        rgb = [np.array(image, dtype='uint8') for _ in range(3)]\n",
    "        data_images.append(rgb)\n",
    "    return np.array(data_images) / 255 \n",
    "\n",
    "X=data_to_image(X)"
   ]
  },
  {
   "cell_type": "code",
   "execution_count": 4,
   "metadata": {
    "scrolled": true
   },
   "outputs": [
    {
     "data": {
      "text/plain": [
       "array([5.1, 3.5, 1.4, 0.2])"
      ]
     },
     "execution_count": 4,
     "metadata": {},
     "output_type": "execute_result"
    },
    {
     "data": {
      "image/png": "[encoded data removed]",
      "text/plain": [
       "<Figure size 432x288 with 1 Axes>"
      ]
     },
     "metadata": {
      "needs_background": "light"
     },
     "output_type": "display_data"
    }
   ],
   "source": [
    "X=np.array([[np.pad(x[:200,:200],26) for x in k] for k in X])\n",
    "plt.imshow(X[0,0,...]);# each number is value from features, we have 5 columns and 23 rows => 115 features as it should be\n",
    "iris['data'][0,]"
   ]
  },
  {
   "cell_type": "code",
   "execution_count": 5,
   "metadata": {},
   "outputs": [
    {
     "data": {
      "text/plain": [
       "((150, 4), (150, 3, 252, 252))"
      ]
     },
     "execution_count": 5,
     "metadata": {},
     "output_type": "execute_result"
    }
   ],
   "source": [
    "iris['data'].shape, X.shape"
   ]
  },
  {
   "cell_type": "markdown",
   "metadata": {
    "id": "PiNNErAgiTAk"
   },
   "source": [
    "### ResNet18"
   ]
  },
  {
   "cell_type": "code",
   "execution_count": 6,
   "metadata": {
    "colab": {
     "base_uri": "https://localhost:8080/"
    },
    "id": "Xg0QblvX736V",
    "outputId": "8270cb4d-5af7-46be-c454-4550466fe371"
   },
   "outputs": [],
   "source": [
    "import torch.nn as nn\n",
    "from torchvision import models\n",
    "\n",
    "\n",
    "def resnet18update(net, only_last = True):\n",
    "   if only_last:\n",
    "      for name, param in net.named_parameters():\n",
    "        if 'fc' not in name and 'act' not in name: param.requires_grad = False  # freezing all except classifier\n",
    "      for name, param in net.layer4[1].named_parameters():\n",
    "        param.requires_grad = True   # unfreezing last sub-block\n",
    "   else:\n",
    "      for name, param in net.named_parameters():\n",
    "          if 'layer4' not in name:\n",
    "              param.requires_grad = False\n",
    "          else:\n",
    "              break\n",
    "   for name, param in net.named_parameters():\n",
    "        if param.requires_grad: print(name)"
   ]
  },
  {
   "cell_type": "code",
   "execution_count": 7,
   "metadata": {
    "id": "Df2Obww7lahl"
   },
   "outputs": [],
   "source": [
    "import torch\n",
    "import torch.nn as nn\n",
    "import torch.optim as optim\n",
    "import torch.nn.functional as F \n",
    "import numpy as np\n",
    "import torchvision\n",
    "from torchvision import *\n",
    "\n",
    "def accuracy(out, labels):\n",
    "    _,pred = torch.max(out, dim=1)\n",
    "    return torch.sum(pred==labels).item()"
   ]
  },
  {
   "cell_type": "markdown",
   "metadata": {
    "id": "BkZh6ma-iCgM"
   },
   "source": [
    "## Train Validation"
   ]
  },
  {
   "cell_type": "code",
   "execution_count": 8,
   "metadata": {
    "id": "5jPwieHOCnya"
   },
   "outputs": [],
   "source": [
    "from sklearn.model_selection import train_test_split as tts\n",
    "x_train,x_test,y_train,y_test=tts(X,Y, test_size=0.2,random_state=8)\n",
    "\n",
    "device=torch.device('cpu')\n",
    "train_data = torch.utils.data.DataLoader(list(zip(x_train,y_train)), batch_size=8, shuffle=True, drop_last=True,num_workers=2)\n",
    "validation_data = torch.utils.data.DataLoader(list(zip(x_test,y_test)),batch_size=1000,num_workers=2)"
   ]
  },
  {
   "cell_type": "code",
   "execution_count": 9,
   "metadata": {
    "colab": {
     "background_save": true,
     "base_uri": "https://localhost:8080/"
    },
    "id": "lYc0FrqBCcb1",
    "outputId": "7916bdba-8e3d-450f-d9a2-8ed65d6f9898"
   },
   "outputs": [
    {
     "name": "stdout",
     "output_type": "stream",
     "text": [
      "layer4.1.conv1.weight\n",
      "layer4.1.bn1.weight\n",
      "layer4.1.bn1.bias\n",
      "layer4.1.conv2.weight\n",
      "layer4.1.bn2.weight\n",
      "layer4.1.bn2.bias\n",
      "fc.weight\n",
      "fc.bias\n",
      "-----      TRAIN RESULTS      -----\n",
      "{'Epoch': 1.0, 'Accuracy': 0.4270833333333333, 'Loss': 1.0621439615885417}\n",
      "-----      TEST  RESULTS     -----\n",
      "{'Epoch': 1.0, 'Accuracy': 0.23333333333333334, 'Loss': 1.1148563504219056}\n",
      "-----      TRAIN RESULTS      -----\n",
      "{'Epoch': 2.0, 'Accuracy': 0.6041666666666666, 'Loss': 1.0103634595870972}\n",
      "-----      TEST  RESULTS     -----\n",
      "{'Epoch': 2.0, 'Accuracy': 0.5, 'Loss': 1.082342952489853}\n",
      "-----      TRAIN RESULTS      -----\n",
      "{'Epoch': 3.0, 'Accuracy': 0.8333333333333334, 'Loss': 0.8781612118085226}\n",
      "-----      TEST  RESULTS     -----\n",
      "{'Epoch': 3.0, 'Accuracy': 0.6666666666666666, 'Loss': 1.0564051389694213}\n",
      "-----      TRAIN RESULTS      -----\n",
      "{'Epoch': 4.0, 'Accuracy': 0.9375, 'Loss': 0.7816721598307291}\n",
      "-----      TEST  RESULTS     -----\n",
      "{'Epoch': 4.0, 'Accuracy': 0.6, 'Loss': 1.037967417637507}\n",
      "-----      TRAIN RESULTS      -----\n",
      "{'Epoch': 5.0, 'Accuracy': 0.9375, 'Loss': 0.7092870275179545}\n",
      "-----      TEST  RESULTS     -----\n",
      "{'Epoch': 5.0, 'Accuracy': 0.7666666666666667, 'Loss': 1.0270326117674509}\n",
      "-----      TRAIN RESULTS      -----\n",
      "{'Epoch': 6.0, 'Accuracy': 0.96875, 'Loss': 0.6624582807223002}\n",
      "-----      TEST  RESULTS     -----\n",
      "{'Epoch': 6.0, 'Accuracy': 0.8333333333333334, 'Loss': 1.002989407380422}\n",
      "-----      TRAIN RESULTS      -----\n",
      "{'Epoch': 7.0, 'Accuracy': 0.96875, 'Loss': 0.6158148646354675}\n",
      "-----      TEST  RESULTS     -----\n",
      "{'Epoch': 7.0, 'Accuracy': 0.6333333333333333, 'Loss': 0.9871464649836222}\n",
      "-----      TRAIN RESULTS      -----\n",
      "{'Epoch': 8.0, 'Accuracy': 0.96875, 'Loss': 0.6112534006436666}\n",
      "-----      TEST  RESULTS     -----\n",
      "{'Epoch': 8.0, 'Accuracy': 0.6333333333333333, 'Loss': 0.9842401285966237}\n",
      "-----      TRAIN RESULTS      -----\n",
      "{'Epoch': 9.0, 'Accuracy': 0.9791666666666666, 'Loss': 0.5920301477114359}\n",
      "-----      TEST  RESULTS     -----\n",
      "{'Epoch': 9.0, 'Accuracy': 0.5333333333333333, 'Loss': 0.9802387336889903}\n",
      "-----      TRAIN RESULTS      -----\n",
      "{'Epoch': 10.0, 'Accuracy': 0.96875, 'Loss': 0.5921982129414877}\n",
      "-----      TEST  RESULTS     -----\n",
      "{'Epoch': 10.0, 'Accuracy': 0.5666666666666667, 'Loss': 0.9498220543066661}\n",
      "-----      TRAIN RESULTS      -----\n",
      "{'Epoch': 11.0, 'Accuracy': 0.9791666666666666, 'Loss': 0.5886140465736389}\n",
      "-----      TEST  RESULTS     -----\n",
      "{'Epoch': 11.0, 'Accuracy': 0.6333333333333333, 'Loss': 0.9074622452259063}\n",
      "-----      TRAIN RESULTS      -----\n",
      "{'Epoch': 12.0, 'Accuracy': 0.96875, 'Loss': 0.5903827349344889}\n",
      "-----      TEST  RESULTS     -----\n",
      "{'Epoch': 12.0, 'Accuracy': 0.7666666666666667, 'Loss': 0.8590892493724823}\n",
      "-----      TRAIN RESULTS      -----\n",
      "{'Epoch': 13.0, 'Accuracy': 0.9791666666666666, 'Loss': 0.5813202261924744}\n",
      "-----      TEST  RESULTS     -----\n",
      "{'Epoch': 13.0, 'Accuracy': 0.8, 'Loss': 0.8103799084822337}\n",
      "-----      TRAIN RESULTS      -----\n",
      "{'Epoch': 14.0, 'Accuracy': 0.9583333333333334, 'Loss': 0.60654749472936}\n",
      "-----      TEST  RESULTS     -----\n",
      "{'Epoch': 14.0, 'Accuracy': 0.9333333333333333, 'Loss': 0.7561973790327708}\n",
      "-----      TRAIN RESULTS      -----\n",
      "{'Epoch': 15.0, 'Accuracy': 0.9791666666666666, 'Loss': 0.5775347749392191}\n",
      "-----      TEST  RESULTS     -----\n",
      "{'Epoch': 15.0, 'Accuracy': 0.9333333333333333, 'Loss': 0.7351003666718801}\n"
     ]
    }
   ],
   "source": [
    "def accuracy(pred,y):\n",
    "    return sum(pred==y)/len(y)\n",
    "from sklearn.metrics import precision_recall_curve, f1_score, auc, precision_score, recall_score, roc_auc_score, roc_curve\n",
    "import matplotlib.pyplot as plt\n",
    "import pandas as pd\n",
    "from statistics import mean\n",
    "from sklearn.model_selection import KFold, train_test_split\n",
    "torch.manual_seed(0)\n",
    "Train_stats=[]\n",
    "Test_stats=[]\n",
    "device='cuda:0'\n",
    "\n",
    "X_train, X_test, Y_train, Y_test = train_test_split(X, Y, test_size=0.2, random_state=10, shuffle=True)\n",
    "if(True):\n",
    " train_data = torch.utils.data.DataLoader(list(zip(X_train,Y_train)), batch_size=32, shuffle=True, drop_last=True,num_workers=2)\n",
    " validation_data = torch.utils.data.DataLoader(list(zip(X_test,Y_test)),batch_size=1,num_workers=2) \n",
    "\n",
    " net = models.resnet18(pretrained=True)\n",
    " num_features = net.fc.in_features\n",
    " net.fc= nn.Linear(num_features, 3)            \n",
    " resnet18update(net)\n",
    " net = nn.Sequential(net, nn.Softmax(1)) \n",
    " net=net.to(device)\n",
    " #loss and optim\n",
    " criterion = nn.CrossEntropyLoss()\n",
    " optimizer = optim.SGD(net.parameters(), lr=0.01, momentum=0.9)\n",
    " \n",
    " for epoch in range(15):\n",
    "   \n",
    "    \n",
    "    Names=['Epoch','Accuracy','Loss']\n",
    "    \n",
    "    Stats={}\n",
    "    \n",
    "    Stats['Accuracy']=0\n",
    "    \n",
    "    if(True):\n",
    "     Stats=[]\n",
    "     for i, (inputs, labels) in enumerate(train_data):\n",
    "        net.train()\n",
    "        inputs = inputs.to(device, dtype=torch.float); \n",
    "        optimizer.zero_grad()\n",
    "        outputs = net(inputs)\n",
    "        labels=labels.to(device).long()\n",
    "        loss = criterion(outputs,labels)\n",
    "        loss.backward()\n",
    "        optimizer.step()\n",
    "\n",
    "        average='micro'\n",
    "        _,pred = torch.max(outputs, dim=1)\n",
    "        Stats.append([epoch+1,accuracy(pred,labels).item(),loss.item()])\n",
    "     Stats={key:val for key,val in zip(Names,np.mean(np.asarray(Stats).T,axis=1))}\n",
    "    \n",
    "    Train_stats.append(Stats)\n",
    "    print(\"-----      TRAIN RESULTS      -----\")\n",
    "    print(Train_stats[-1])\n",
    " \n",
    "    Stats=[]\n",
    "\n",
    "    for i, (inputs, labels) in enumerate(validation_data):\n",
    "        net.eval()\n",
    "        inputs = inputs.to(device, dtype=torch.float); \n",
    "        outputs = net(inputs)\n",
    "        labels=labels.to(device).long()\n",
    "        loss = criterion(outputs,labels)\n",
    "\n",
    "        _,pred = torch.max(outputs, dim=1)\n",
    "        Stats.append([epoch+1,accuracy(pred,labels).item(),loss.item()])\n",
    "    \n",
    "    Test_stats.append({key:val for key,val in zip(Names,np.mean(np.asarray(Stats).T,axis=1))})\n",
    "    print(\"-----      TEST  RESULTS     -----\")\n",
    "    print(Test_stats[-1])\n",
    " "
   ]
  },
  {
   "cell_type": "code",
   "execution_count": 10,
   "metadata": {},
   "outputs": [],
   "source": [
    "Test=pd.DataFrame(Test_stats)\n",
    "Train=pd.DataFrame(Train_stats)"
   ]
  },
  {
   "cell_type": "code",
   "execution_count": 12,
   "metadata": {},
   "outputs": [],
   "source": [
    "Test.to_csv('Iris.csv')"
   ]
  },
  {
   "cell_type": "code",
   "execution_count": 13,
   "metadata": {},
   "outputs": [
    {
     "data": {
      "text/html": [
       "<div>\n",
       "<style scoped>\n",
       "    .dataframe tbody tr th:only-of-type {\n",
       "        vertical-align: middle;\n",
       "    }\n",
       "\n",
       "    .dataframe tbody tr th {\n",
       "        vertical-align: top;\n",
       "    }\n",
       "\n",
       "    .dataframe thead th {\n",
       "        text-align: right;\n",
       "    }\n",
       "</style>\n",
       "<table border=\"1\" class=\"dataframe\">\n",
       "  <thead>\n",
       "    <tr style=\"text-align: right;\">\n",
       "      <th></th>\n",
       "      <th>Epoch</th>\n",
       "      <th>Accuracy</th>\n",
       "      <th>Loss</th>\n",
       "    </tr>\n",
       "  </thead>\n",
       "  <tbody>\n",
       "    <tr>\n",
       "      <th>0</th>\n",
       "      <td>1.0</td>\n",
       "      <td>0.233333</td>\n",
       "      <td>1.114856</td>\n",
       "    </tr>\n",
       "    <tr>\n",
       "      <th>1</th>\n",
       "      <td>2.0</td>\n",
       "      <td>0.500000</td>\n",
       "      <td>1.082343</td>\n",
       "    </tr>\n",
       "    <tr>\n",
       "      <th>2</th>\n",
       "      <td>3.0</td>\n",
       "      <td>0.666667</td>\n",
       "      <td>1.056405</td>\n",
       "    </tr>\n",
       "    <tr>\n",
       "      <th>3</th>\n",
       "      <td>4.0</td>\n",
       "      <td>0.600000</td>\n",
       "      <td>1.037967</td>\n",
       "    </tr>\n",
       "    <tr>\n",
       "      <th>4</th>\n",
       "      <td>5.0</td>\n",
       "      <td>0.766667</td>\n",
       "      <td>1.027033</td>\n",
       "    </tr>\n",
       "    <tr>\n",
       "      <th>5</th>\n",
       "      <td>6.0</td>\n",
       "      <td>0.833333</td>\n",
       "      <td>1.002989</td>\n",
       "    </tr>\n",
       "    <tr>\n",
       "      <th>6</th>\n",
       "      <td>7.0</td>\n",
       "      <td>0.633333</td>\n",
       "      <td>0.987146</td>\n",
       "    </tr>\n",
       "    <tr>\n",
       "      <th>7</th>\n",
       "      <td>8.0</td>\n",
       "      <td>0.633333</td>\n",
       "      <td>0.984240</td>\n",
       "    </tr>\n",
       "    <tr>\n",
       "      <th>8</th>\n",
       "      <td>9.0</td>\n",
       "      <td>0.533333</td>\n",
       "      <td>0.980239</td>\n",
       "    </tr>\n",
       "    <tr>\n",
       "      <th>9</th>\n",
       "      <td>10.0</td>\n",
       "      <td>0.566667</td>\n",
       "      <td>0.949822</td>\n",
       "    </tr>\n",
       "    <tr>\n",
       "      <th>10</th>\n",
       "      <td>11.0</td>\n",
       "      <td>0.633333</td>\n",
       "      <td>0.907462</td>\n",
       "    </tr>\n",
       "    <tr>\n",
       "      <th>11</th>\n",
       "      <td>12.0</td>\n",
       "      <td>0.766667</td>\n",
       "      <td>0.859089</td>\n",
       "    </tr>\n",
       "    <tr>\n",
       "      <th>12</th>\n",
       "      <td>13.0</td>\n",
       "      <td>0.800000</td>\n",
       "      <td>0.810380</td>\n",
       "    </tr>\n",
       "    <tr>\n",
       "      <th>13</th>\n",
       "      <td>14.0</td>\n",
       "      <td>0.933333</td>\n",
       "      <td>0.756197</td>\n",
       "    </tr>\n",
       "    <tr>\n",
       "      <th>14</th>\n",
       "      <td>15.0</td>\n",
       "      <td>0.933333</td>\n",
       "      <td>0.735100</td>\n",
       "    </tr>\n",
       "  </tbody>\n",
       "</table>\n",
       "</div>"
      ],
      "text/plain": [
       "    Epoch  Accuracy      Loss\n",
       "0     1.0  0.233333  1.114856\n",
       "1     2.0  0.500000  1.082343\n",
       "2     3.0  0.666667  1.056405\n",
       "3     4.0  0.600000  1.037967\n",
       "4     5.0  0.766667  1.027033\n",
       "5     6.0  0.833333  1.002989\n",
       "6     7.0  0.633333  0.987146\n",
       "7     8.0  0.633333  0.984240\n",
       "8     9.0  0.533333  0.980239\n",
       "9    10.0  0.566667  0.949822\n",
       "10   11.0  0.633333  0.907462\n",
       "11   12.0  0.766667  0.859089\n",
       "12   13.0  0.800000  0.810380\n",
       "13   14.0  0.933333  0.756197\n",
       "14   15.0  0.933333  0.735100"
      ]
     },
     "execution_count": 13,
     "metadata": {},
     "output_type": "execute_result"
    }
   ],
   "source": [
    "Test"
   ]
  },
  {
   "cell_type": "code",
   "execution_count": null,
   "metadata": {},
   "outputs": [],
   "source": []
  },
  {
   "cell_type": "code",
   "execution_count": null,
   "metadata": {},
   "outputs": [],
   "source": []
  },
  {
   "cell_type": "code",
   "execution_count": null,
   "metadata": {},
   "outputs": [],
   "source": []
  },
  {
   "cell_type": "code",
   "execution_count": null,
   "metadata": {},
   "outputs": [],
   "source": []
  }
 ],
 "metadata": {
  "colab": {
   "collapsed_sections": [],
   "name": "Copy of IRIS.ipynb",
   "provenance": [],
   "toc_visible": true
  },
  "kernelspec": {
   "display_name": "Python 3",
   "language": "python",
   "name": "python3"
  },
  "language_info": {
   "codemirror_mode": {
    "name": "ipython",
    "version": 3
   },
   "file_extension": ".py",
   "mimetype": "text/x-python",
   "name": "python",
   "nbconvert_exporter": "python",
   "pygments_lexer": "ipython3",
   "version": "3.8.5"
  }
 },
 "nbformat": 4,
 "nbformat_minor": 1
}
