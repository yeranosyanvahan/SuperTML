{
 "cells": [
  {
   "cell_type": "code",
   "execution_count": 1,
   "metadata": {},
   "outputs": [],
   "source": [
    "import matplotlib.pyplot as plt\n",
    "from sklearn.datasets import make_regression as MR\n",
    "from sklearn.linear_model import LinearRegression as LR\n",
    "import statsmodels.api as sm \n",
    "import numpy as np\n",
    "import pandas as pd\n",
    "import sklearn\n",
    "import matplotlib.pyplot as plt\n",
    "\n",
    "from sklearn.linear_model import LogisticRegression\n",
    "from sklearn.metrics import classification_report\n",
    "\n",
    "from sklearn.model_selection import train_test_split\n",
    "from sklearn.model_selection import KFold\n",
    "from sklearn.model_selection import cross_val_score\n",
    "from sklearn.linear_model import Lasso as LLR\n",
    "import statsmodels.api as sm \n",
    "from sklearn.datasets import make_sparse_uncorrelated\n",
    "import matplotlib.pyplot as plt\n",
    "import numpy as np\n",
    "import statsmodels.api as sm "
   ]
  },
  {
   "cell_type": "code",
   "execution_count": 2,
   "metadata": {
    "id": "MzpLscAXR8qu"
   },
   "outputs": [],
   "source": [
    "from sklearn import datasets\n",
    "from sklearn.linear_model import Lasso\n",
    "from random import shuffle\n",
    "wine = datasets.load_wine()"
   ]
  },
  {
   "cell_type": "code",
   "execution_count": 3,
   "metadata": {
    "id": "pIWfHXsYSIr-"
   },
   "outputs": [],
   "source": [
    "X=wine['data']\n",
    "Y=wine['target']"
   ]
  },
  {
   "cell_type": "code",
   "execution_count": 4,
   "metadata": {},
   "outputs": [],
   "source": [
    "XY=list(zip(X,Y))\n",
    "shuffle(XY)\n",
    "X,Y=list(zip(*XY))\n",
    "X=np.array(X)\n",
    "Y=np.array(Y)"
   ]
  },
  {
   "cell_type": "code",
   "execution_count": 5,
   "metadata": {
    "scrolled": true
   },
   "outputs": [
    {
     "name": "stdout",
     "output_type": "stream",
     "text": [
      "alpha: 4.5399929762484875e-05, CV Score Avg: 0.8440250995616039 \n",
      "alpha: 5.017468205617531e-05, CV Score Avg: 0.8440410450162508 \n",
      "alpha: 5.545159943217697e-05, CV Score Avg: 0.8440588856337321 \n",
      "alpha: 6.128349505322217e-05, CV Score Avg: 0.8440781870862241 \n",
      "alpha: 6.772873649085393e-05, CV Score Avg: 0.8440998050511384 \n",
      "alpha: 7.485182988770063e-05, CV Score Avg: 0.8441232338632133 \n",
      "alpha: 8.272406555663227e-05, CV Score Avg: 0.8441493587308668 \n",
      "alpha: 9.142423147817332e-05, CV Score Avg: 0.8441779313531288 \n",
      "alpha: 0.00010103940183709347, CV Score Avg: 0.8442091999728139 \n",
      "alpha: 0.00011166580849011483, CV Score Avg: 0.8442440226210854 \n",
      "alpha: 0.00012340980408667962, CV Score Avg: 0.844281671538812 \n",
      "alpha: 0.00013638892648201145, CV Score Avg: 0.8443228605324524 \n",
      "alpha: 0.00015073307509547656, CV Score Avg: 0.8443684979421923 \n",
      "alpha: 0.0001665858109876336, CV Score Avg: 0.8444184869397006 \n",
      "alpha: 0.00018410579366757928, CV Score Avg: 0.8444724072179477 \n",
      "alpha: 0.00020346836901064428, CV Score Avg: 0.8445319243491468 \n",
      "alpha: 0.0002248673241788483, CV Score Avg: 0.8445963121583441 \n",
      "alpha: 0.00024851682710795196, CV Score Avg: 0.8446674274635935 \n",
      "alpha: 0.00027465356997214265, CV Score Avg: 0.8447438177082693 \n",
      "alpha: 0.0003035391380788669, CV Score Avg: 0.8448266259196334 \n",
      "alpha: 0.00033546262790251196, CV Score Avg: 0.8449165053203025 \n",
      "alpha: 0.0003707435404590884, CV Score Avg: 0.845013196339272 \n",
      "alpha: 0.00040973497897978697, CV Score Avg: 0.8451167475779873 \n",
      "alpha: 0.00045282718288679717, CV Score Avg: 0.8452284704087674 \n",
      "alpha: 0.000500451433440611, CV Score Avg: 0.8453323541552672 \n",
      "alpha: 0.0005530843701478338, CV Score Avg: 0.8454384820566705 \n",
      "alpha: 0.0006112527611295726, CV Score Avg: 0.8455639418274783 \n",
      "alpha: 0.0006755387751938446, CV Score Avg: 0.8456963046725205 \n",
      "alpha: 0.0007465858083766795, CV Score Avg: 0.8458346115044157 \n",
      "alpha: 0.0008251049232659049, CV Score Avg: 0.8459508172247444 \n",
      "alpha: 0.0009118819655545166, CV Score Avg: 0.8460299677951845 \n",
      "alpha: 0.0010077854290485107, CV Score Avg: 0.8460407276961274 \n",
      "alpha: 0.0011137751478448037, CV Score Avg: 0.8460352942475551 \n",
      "alpha: 0.0012309119026734814, CV Score Avg: 0.8460111858870063 \n",
      "alpha: 0.0013603680375478943, CV Score Avg: 0.845960732796047 \n",
      "alpha: 0.001503439192977573, CV Score Avg: 0.8458773737627462 \n",
      "alpha: 0.0016615572731739346, CV Score Avg: 0.8459065720789445 \n",
      "alpha: 0.0018363047770289078, CV Score Avg: 0.8460507762438739 \n",
      "alpha: 0.002029430636295735, CV Score Avg: 0.8462824909865239 \n",
      "alpha: 0.002242867719485804, CV Score Avg: 0.8466198958851289 \n",
      "alpha: 0.0024787521766663594, CV Score Avg: 0.84702653647001 \n",
      "alpha: 0.0027394448187683692, CV Score Avg: 0.8474948502597209 \n",
      "alpha: 0.003027554745375816, CV Score Avg: 0.8480150709404624 \n",
      "alpha: 0.0033459654574712733, CV Score Avg: 0.8484473147566514 \n",
      "alpha: 0.0036978637164829333, CV Score Avg: 0.8487478593309176 \n",
      "alpha: 0.004086771438464068, CV Score Avg: 0.8486402264686552 \n",
      "alpha: 0.004516580942612668, CV Score Avg: 0.8484348320903294 \n",
      "alpha: 0.004991593906910219, CV Score Avg: 0.8484041262981453 \n",
      "alpha: 0.005516564420760773, CV Score Avg: 0.8486144247528278 \n",
      "alpha: 0.00609674656551564, CV Score Avg: 0.8489407155824505 \n",
      "alpha: 0.006737946999085469, CV Score Avg: 0.8492825485095528 \n",
      "alpha: 0.00744658307092434, CV Score Avg: 0.8499336379779544 \n",
      "alpha: 0.008229747049020032, CV Score Avg: 0.8508258491900472 \n",
      "alpha: 0.009095277101695817, CV Score Avg: 0.8518932457589445 \n",
      "alpha: 0.010051835744633588, CV Score Avg: 0.8528640360049999 \n",
      "alpha: 0.01110899653824231, CV Score Avg: 0.8532461688984968 \n",
      "alpha: 0.01227733990306844, CV Score Avg: 0.8532744300310984 \n",
      "alpha: 0.013568559012200937, CV Score Avg: 0.8530513796597148 \n",
      "alpha: 0.014995576820477707, CV Score Avg: 0.8526853991888513 \n",
      "alpha: 0.016572675401761258, CV Score Avg: 0.8520490398523668 \n",
      "alpha: 0.018315638888734186, CV Score Avg: 0.8511197174457787 \n",
      "alpha: 0.020241911445804395, CV Score Avg: 0.8499544759221186 \n",
      "alpha: 0.022370771856165605, CV Score Avg: 0.8486520012548725 \n",
      "alpha: 0.02472352647033939, CV Score Avg: 0.8474697339454529 \n",
      "alpha: 0.027323722447292562, CV Score Avg: 0.8460016958168269 \n",
      "alpha: 0.030197383422318508, CV Score Avg: 0.844282360957308 \n",
      "alpha: 0.03337326996032609, CV Score Avg: 0.8420898246968074 \n",
      "alpha: 0.03688316740124002, CV Score Avg: 0.8395638369174343 \n",
      "alpha: 0.04076220397836622, CV Score Avg: 0.8366529002402473 \n",
      "alpha: 0.04504920239355781, CV Score Avg: 0.8343291651896413 \n"
     ]
    }
   ],
   "source": [
    "alphas = [np.e**(x/10) for x in range(-100,-30)]\n",
    "Scores=[]\n",
    "for alpha in alphas:\n",
    "    log_reg = LLR(alpha)\n",
    "    kfold = KFold(n_splits=10)\n",
    "    score = cross_val_score(log_reg, X[:100], Y[:100], cv = kfold)\n",
    "    Scores.append(np.mean(score))\n",
    "    print(\"alpha: %s, CV Score Avg: %s \" % (alpha, np.mean(score)))"
   ]
  },
  {
   "cell_type": "code",
   "execution_count": 6,
   "metadata": {},
   "outputs": [
    {
     "data": {
      "text/plain": [
       "[<matplotlib.lines.Line2D at 0x7f5bf5923af0>]"
      ]
     },
     "execution_count": 6,
     "metadata": {},
     "output_type": "execute_result"
    },
    {
     "data": {
      "image/png": "[encoded data removed]",
      "text/plain": [
       "<Figure size 432x288 with 1 Axes>"
      ]
     },
     "metadata": {
      "needs_background": "light"
     },
     "output_type": "display_data"
    }
   ],
   "source": [
    "plt.plot(alphas,Scores)"
   ]
  },
  {
   "cell_type": "code",
   "execution_count": 7,
   "metadata": {
    "scrolled": false
   },
   "outputs": [],
   "source": [
    "alpha=alphas[np.argmax(Scores)] # best alpha\n",
    "\n",
    "model=LLR(alpha).fit(X[:100], Y[:100])\n",
    "Coef=model.coef_"
   ]
  },
  {
   "cell_type": "code",
   "execution_count": 8,
   "metadata": {},
   "outputs": [],
   "source": [
    "rearange=Coef.argsort()\n",
    "Coef.sort()\n",
    "Coef[:5]=40\n",
    "Coef[5:]=25"
   ]
  },
  {
   "cell_type": "code",
   "execution_count": 9,
   "metadata": {},
   "outputs": [],
   "source": [
    "X=X[:,rearange[::-1]]\n",
    "Coef.sort()\n",
    "Coef=Coef[::-1]\n",
    "font_size=Coef.astype(int)\n",
    "grid=list(zip([0]*5+[145]*8,list(range(2,252,50))+list(range(2,252,32))))"
   ]
  },
  {
   "cell_type": "code",
   "execution_count": 10,
   "metadata": {},
   "outputs": [],
   "source": [
    "from PIL import Image, ImageDraw, ImageFont\n",
    "from tqdm import tqdm\n",
    "import numpy as np\n",
    "from matplotlib import pyplot as plt\n",
    "\n",
    "\n",
    "def sampletoimage(sample):\n",
    " img =  Image.fromarray(np.zeros((255,255)).astype('uint8'))\n",
    " draw = ImageDraw.Draw(img)    \n",
    " for f,s,g in zip(font_size,sample,grid):\n",
    "  font = ImageFont.truetype(\"./LiberationMono-Bold.ttf\", size=f)\n",
    "  draw.text(g,str(s),font=font, fill='white')\n",
    "\n",
    " return [np.array(img) for _ in range(3)]"
   ]
  },
  {
   "cell_type": "code",
   "execution_count": 11,
   "metadata": {},
   "outputs": [],
   "source": [
    "X=np.array(list(map(sampletoimage,X)))"
   ]
  },
  {
   "cell_type": "code",
   "execution_count": 12,
   "metadata": {},
   "outputs": [
    {
     "data": {
      "text/plain": [
       "<matplotlib.image.AxesImage at 0x7f5bf57b48e0>"
      ]
     },
     "execution_count": 12,
     "metadata": {},
     "output_type": "execute_result"
    },
    {
     "data": {
      "image/png": "[encoded data removed]",
      "text/plain": [
       "<Figure size 432x288 with 1 Axes>"
      ]
     },
     "metadata": {
      "needs_background": "light"
     },
     "output_type": "display_data"
    }
   ],
   "source": [
    "plt.imshow(X[3,0])"
   ]
  },
  {
   "cell_type": "markdown",
   "metadata": {
    "id": "PiNNErAgiTAk"
   },
   "source": [
    "### ResNet18"
   ]
  },
  {
   "cell_type": "code",
   "execution_count": 14,
   "metadata": {
    "id": "Df2Obww7lahl"
   },
   "outputs": [],
   "source": [
    "import torch.nn as nn\n",
    "from torchvision import models\n",
    "import torch\n",
    "import torch.nn as nn\n",
    "import torch.optim as optim\n",
    "import torch.nn.functional as F \n",
    "import numpy as np\n",
    "import torchvision\n",
    "from torchvision import *\n",
    "\n",
    "def accuracy(out, labels):\n",
    "    _,pred = torch.max(out, dim=1)\n",
    "    return torch.sum(pred==labels).item()"
   ]
  },
  {
   "cell_type": "code",
   "execution_count": 72,
   "metadata": {},
   "outputs": [],
   "source": [
    "net = models.resnet18(pretrained=True)\n",
    "num_features = net.fc.in_features\n",
    "#net = torch.nn.Sequential(*(list(net.children())[:-1]))"
   ]
  },
  {
   "cell_type": "code",
   "execution_count": 75,
   "metadata": {},
   "outputs": [
    {
     "ename": "AttributeError",
     "evalue": "'Sequential' object has no attribute 'requires_grad'",
     "output_type": "error",
     "traceback": [
      "\u001b[0;31m---------------------------------------------------------------------------\u001b[0m",
      "\u001b[0;31mAttributeError\u001b[0m                            Traceback (most recent call last)",
      "\u001b[0;32m<ipython-input-75-53ad2d52d3b2>\u001b[0m in \u001b[0;36m<module>\u001b[0;34m\u001b[0m\n\u001b[0;32m----> 1\u001b[0;31m \u001b[0mnet\u001b[0m\u001b[0;34m.\u001b[0m\u001b[0mlayer4\u001b[0m\u001b[0;34m.\u001b[0m\u001b[0mrequires_grad\u001b[0m\u001b[0;34m\u001b[0m\u001b[0;34m\u001b[0m\u001b[0m\n\u001b[0m",
      "\u001b[0;32m/opt/conda/lib/python3.8/site-packages/torch/nn/modules/module.py\u001b[0m in \u001b[0;36m__getattr__\u001b[0;34m(self, name)\u001b[0m\n\u001b[1;32m    945\u001b[0m             \u001b[0;32mif\u001b[0m \u001b[0mname\u001b[0m \u001b[0;32min\u001b[0m \u001b[0mmodules\u001b[0m\u001b[0;34m:\u001b[0m\u001b[0;34m\u001b[0m\u001b[0;34m\u001b[0m\u001b[0m\n\u001b[1;32m    946\u001b[0m                 \u001b[0;32mreturn\u001b[0m \u001b[0mmodules\u001b[0m\u001b[0;34m[\u001b[0m\u001b[0mname\u001b[0m\u001b[0;34m]\u001b[0m\u001b[0;34m\u001b[0m\u001b[0;34m\u001b[0m\u001b[0m\n\u001b[0;32m--> 947\u001b[0;31m         raise AttributeError(\"'{}' object has no attribute '{}'\".format(\n\u001b[0m\u001b[1;32m    948\u001b[0m             type(self).__name__, name))\n\u001b[1;32m    949\u001b[0m \u001b[0;34m\u001b[0m\u001b[0m\n",
      "\u001b[0;31mAttributeError\u001b[0m: 'Sequential' object has no attribute 'requires_grad'"
     ]
    }
   ],
   "source": [
    "net.layer4."
   ]
  },
  {
   "cell_type": "code",
   "execution_count": 16,
   "metadata": {},
   "outputs": [],
   "source": [
    "XX=[]\n",
    "for inputs in torch.utils.data.DataLoader(X,batch_size=1):\n",
    " inputs = inputs.to('cpu', dtype=torch.float)\n",
    " XX.append(net(inputs).reshape(2048).detach().numpy())\n",
    "XX=np.asarray(XX)"
   ]
  },
  {
   "cell_type": "markdown",
   "metadata": {
    "id": "BkZh6ma-iCgM"
   },
   "source": [
    "## Train Validation Test"
   ]
  },
  {
   "cell_type": "code",
   "execution_count": 59,
   "metadata": {
    "colab": {
     "background_save": true,
     "base_uri": "https://localhost:8080/"
    },
    "id": "lYc0FrqBCcb1",
    "outputId": "7916bdba-8e3d-450f-d9a2-8ed65d6f9898",
    "scrolled": false
   },
   "outputs": [
    {
     "name": "stdout",
     "output_type": "stream",
     "text": [
      "-----      TRAIN RESULTS      -----\n",
      "{'Fold': 1.0, 'Epoch': 1.0, 'Accuracy': 0.3564814817574289, 'Loss': 1.1021413273281522}\n",
      "-----       TEST RESULTS     ---\n",
      "{'Fold': 1.0, 'Epoch': 1.0, 'Accuracy': 0.3611111044883728, 'Loss': 1.1270184516906738}\n",
      "-----      TRAIN RESULTS      -----\n",
      "{'Fold': 1.0, 'Epoch': 2.0, 'Accuracy': 0.40740740795930225, 'Loss': 1.1352683669990964}\n",
      "-----       TEST RESULTS     ---\n",
      "{'Fold': 1.0, 'Epoch': 2.0, 'Accuracy': 0.3611111044883728, 'Loss': 1.1766650676727295}\n",
      "-----      TRAIN RESULTS      -----\n",
      "{'Fold': 1.0, 'Epoch': 3.0, 'Accuracy': 0.41203703814082676, 'Loss': 1.1136588818497128}\n",
      "-----       TEST RESULTS     ---\n",
      "{'Fold': 1.0, 'Epoch': 3.0, 'Accuracy': 0.3611111044883728, 'Loss': 1.1322458982467651}\n",
      "-----      TRAIN RESULTS      -----\n",
      "{'Fold': 1.0, 'Epoch': 4.0, 'Accuracy': 0.33564814842409557, 'Loss': 1.1044658654265933}\n",
      "-----       TEST RESULTS     ---\n",
      "{'Fold': 1.0, 'Epoch': 4.0, 'Accuracy': 0.3611111044883728, 'Loss': 1.1446399688720703}\n",
      "-----      TRAIN RESULTS      -----\n",
      "{'Fold': 1.0, 'Epoch': 5.0, 'Accuracy': 0.40509259286854005, 'Loss': 1.1155119637648265}\n",
      "-----       TEST RESULTS     ---\n",
      "{'Fold': 1.0, 'Epoch': 5.0, 'Accuracy': 0.3611111044883728, 'Loss': 1.1417289972305298}\n"
     ]
    }
   ],
   "source": [
    "def accuracy(pred,y):\n",
    "    return sum(pred==y)/len(y)\n",
    "from sklearn.metrics import precision_recall_curve, f1_score, auc, precision_score, recall_score, roc_auc_score, roc_curve\n",
    "import matplotlib.pyplot as plt\n",
    "import pandas as pd\n",
    "from statistics import mean\n",
    "from sklearn.model_selection import KFold\n",
    "\n",
    "device='cpu'\n",
    "Train_stats=[]\n",
    "Test_stats=[]\n",
    "for fold, (train_index, test_index)  in enumerate(KFold(n_splits=5,shuffle=True).split(X)):\n",
    " train_data = torch.utils.data.DataLoader(list(zip(XX[train_index],Y[train_index])), batch_size=8, shuffle=True,num_workers=24)\n",
    " validation_data = torch.utils.data.DataLoader(list(zip(XX[test_index],Y[test_index])),batch_size=1024,num_workers=24) \n",
    "\n",
    " net=  nn.Sequential(nn.Linear(num_features, 3), nn.Softmax(1))           \n",
    " net=net.to(device)\n",
    " #loss and optim\n",
    " criterion = nn.CrossEntropyLoss().to(device)\n",
    " optimizer = optim.SGD(net.parameters(), lr=0.001, momentum=0.95)\n",
    " \n",
    " for epoch in range(5):\n",
    "   \n",
    "    Stats=[]\n",
    "    Names=['Fold','Epoch','Accuracy','Loss']\n",
    "\n",
    "    for i, (inputs, labels) in enumerate(train_data):\n",
    "        net.train()\n",
    "        inputs = inputs.to(device, dtype=torch.float); \n",
    "        labels=labels.to(device).long()\n",
    "        optimizer.zero_grad()\n",
    "        outputs = net(inputs)\n",
    "        loss = criterion(outputs, labels.long())\n",
    "        loss.backward()\n",
    "        optimizer.step()\n",
    "\n",
    "        average='micro'\n",
    "        _,pred = torch.max(outputs, dim=1)\n",
    "        Stats.append([fold+1,epoch+1,accuracy(pred,labels).item(),loss.item()])\n",
    "    Train_stats.append({key:val for key,val in zip(Names,np.asarray(Stats).T)})\n",
    "    print(\"-----      TRAIN RESULTS      -----\")\n",
    "    print({key:val for key,val in zip(Names,np.mean(np.asarray(Stats).T,axis=1))})\n",
    " \n",
    "    Stats=[]\n",
    "\n",
    "    for i, (inputs, labels) in enumerate(validation_data):\n",
    "        net.eval()\n",
    "        inputs = inputs.to(device, dtype=torch.float);\n",
    "        labels=labels.to(device).long()\n",
    "        outputs = net(inputs)\n",
    "        loss = criterion(outputs, labels)\n",
    "\n",
    "        average='micro'\n",
    "        _,pred = torch.max(outputs, dim=1)\n",
    "        Stats.append([fold+1,epoch+1,accuracy(pred,labels).item(),loss.item()])   \n",
    "    \n",
    "    \n",
    "    Test_stats.append({key:val for key,val in zip(Names,np.asarray(Stats).T)})\n",
    "    print(\"-----       TEST RESULTS     ---\")\n",
    "    print({key:val for key,val in zip(Names,np.mean(np.asarray(Stats).T,axis=1))})\n",
    " break"
   ]
  },
  {
   "cell_type": "code",
   "execution_count": 60,
   "metadata": {},
   "outputs": [],
   "source": [
    "test=pd.DataFrame(Test_stats[0]).iloc[1:]\n",
    "for S in Test_stats:\n",
    " test=test.append(pd.DataFrame(S))"
   ]
  },
  {
   "cell_type": "code",
   "execution_count": 61,
   "metadata": {},
   "outputs": [
    {
     "data": {
      "text/html": [
       "<div>\n",
       "<style scoped>\n",
       "    .dataframe tbody tr th:only-of-type {\n",
       "        vertical-align: middle;\n",
       "    }\n",
       "\n",
       "    .dataframe tbody tr th {\n",
       "        vertical-align: top;\n",
       "    }\n",
       "\n",
       "    .dataframe thead th {\n",
       "        text-align: right;\n",
       "    }\n",
       "</style>\n",
       "<table border=\"1\" class=\"dataframe\">\n",
       "  <thead>\n",
       "    <tr style=\"text-align: right;\">\n",
       "      <th></th>\n",
       "      <th>Fold</th>\n",
       "      <th>Accuracy</th>\n",
       "      <th>Loss</th>\n",
       "    </tr>\n",
       "    <tr>\n",
       "      <th>Epoch</th>\n",
       "      <th></th>\n",
       "      <th></th>\n",
       "      <th></th>\n",
       "    </tr>\n",
       "  </thead>\n",
       "  <tbody>\n",
       "    <tr>\n",
       "      <th>1.0</th>\n",
       "      <td>1.0</td>\n",
       "      <td>0.361111</td>\n",
       "      <td>1.127018</td>\n",
       "    </tr>\n",
       "    <tr>\n",
       "      <th>2.0</th>\n",
       "      <td>1.0</td>\n",
       "      <td>0.361111</td>\n",
       "      <td>1.176665</td>\n",
       "    </tr>\n",
       "    <tr>\n",
       "      <th>3.0</th>\n",
       "      <td>1.0</td>\n",
       "      <td>0.361111</td>\n",
       "      <td>1.132246</td>\n",
       "    </tr>\n",
       "    <tr>\n",
       "      <th>4.0</th>\n",
       "      <td>1.0</td>\n",
       "      <td>0.361111</td>\n",
       "      <td>1.144640</td>\n",
       "    </tr>\n",
       "    <tr>\n",
       "      <th>5.0</th>\n",
       "      <td>1.0</td>\n",
       "      <td>0.361111</td>\n",
       "      <td>1.141729</td>\n",
       "    </tr>\n",
       "  </tbody>\n",
       "</table>\n",
       "</div>"
      ],
      "text/plain": [
       "       Fold  Accuracy      Loss\n",
       "Epoch                          \n",
       "1.0     1.0  0.361111  1.127018\n",
       "2.0     1.0  0.361111  1.176665\n",
       "3.0     1.0  0.361111  1.132246\n",
       "4.0     1.0  0.361111  1.144640\n",
       "5.0     1.0  0.361111  1.141729"
      ]
     },
     "execution_count": 61,
     "metadata": {},
     "output_type": "execute_result"
    }
   ],
   "source": [
    "test.groupby('Epoch').sum(['Loss','Precision','Recall','f1_score'])"
   ]
  },
  {
   "cell_type": "code",
   "execution_count": 62,
   "metadata": {},
   "outputs": [],
   "source": [
    "train=pd.DataFrame(Train_stats[0]).iloc[1000:]\n",
    "for S in Train_stats:\n",
    " train=train.append(pd.DataFrame(S))"
   ]
  },
  {
   "cell_type": "code",
   "execution_count": 64,
   "metadata": {},
   "outputs": [
    {
     "data": {
      "text/html": [
       "<div>\n",
       "<style scoped>\n",
       "    .dataframe tbody tr th:only-of-type {\n",
       "        vertical-align: middle;\n",
       "    }\n",
       "\n",
       "    .dataframe tbody tr th {\n",
       "        vertical-align: top;\n",
       "    }\n",
       "\n",
       "    .dataframe thead th {\n",
       "        text-align: right;\n",
       "    }\n",
       "</style>\n",
       "<table border=\"1\" class=\"dataframe\">\n",
       "  <thead>\n",
       "    <tr style=\"text-align: right;\">\n",
       "      <th></th>\n",
       "      <th>Fold</th>\n",
       "      <th>Accuracy</th>\n",
       "      <th>Loss</th>\n",
       "    </tr>\n",
       "    <tr>\n",
       "      <th>Epoch</th>\n",
       "      <th></th>\n",
       "      <th></th>\n",
       "      <th></th>\n",
       "    </tr>\n",
       "  </thead>\n",
       "  <tbody>\n",
       "    <tr>\n",
       "      <th>1.0</th>\n",
       "      <td>1.0</td>\n",
       "      <td>0.356481</td>\n",
       "      <td>1.102141</td>\n",
       "    </tr>\n",
       "    <tr>\n",
       "      <th>2.0</th>\n",
       "      <td>1.0</td>\n",
       "      <td>0.407407</td>\n",
       "      <td>1.135268</td>\n",
       "    </tr>\n",
       "    <tr>\n",
       "      <th>3.0</th>\n",
       "      <td>1.0</td>\n",
       "      <td>0.412037</td>\n",
       "      <td>1.113659</td>\n",
       "    </tr>\n",
       "    <tr>\n",
       "      <th>4.0</th>\n",
       "      <td>1.0</td>\n",
       "      <td>0.335648</td>\n",
       "      <td>1.104466</td>\n",
       "    </tr>\n",
       "    <tr>\n",
       "      <th>5.0</th>\n",
       "      <td>1.0</td>\n",
       "      <td>0.405093</td>\n",
       "      <td>1.115512</td>\n",
       "    </tr>\n",
       "  </tbody>\n",
       "</table>\n",
       "</div>"
      ],
      "text/plain": [
       "       Fold  Accuracy      Loss\n",
       "Epoch                          \n",
       "1.0     1.0  0.356481  1.102141\n",
       "2.0     1.0  0.407407  1.135268\n",
       "3.0     1.0  0.412037  1.113659\n",
       "4.0     1.0  0.335648  1.104466\n",
       "5.0     1.0  0.405093  1.115512"
      ]
     },
     "execution_count": 64,
     "metadata": {},
     "output_type": "execute_result"
    }
   ],
   "source": [
    "train.groupby('Epoch').sum(['Loss','Precision','Recall','f1_score'])/18"
   ]
  },
  {
   "cell_type": "code",
   "execution_count": null,
   "metadata": {},
   "outputs": [],
   "source": []
  },
  {
   "cell_type": "code",
   "execution_count": null,
   "metadata": {},
   "outputs": [],
   "source": []
  },
  {
   "cell_type": "code",
   "execution_count": null,
   "metadata": {},
   "outputs": [],
   "source": []
  },
  {
   "cell_type": "code",
   "execution_count": null,
   "metadata": {},
   "outputs": [],
   "source": []
  },
  {
   "cell_type": "code",
   "execution_count": null,
   "metadata": {},
   "outputs": [],
   "source": []
  },
  {
   "cell_type": "code",
   "execution_count": null,
   "metadata": {},
   "outputs": [],
   "source": []
  },
  {
   "cell_type": "code",
   "execution_count": null,
   "metadata": {},
   "outputs": [],
   "source": []
  },
  {
   "cell_type": "code",
   "execution_count": null,
   "metadata": {},
   "outputs": [],
   "source": []
  }
 ],
 "metadata": {
  "colab": {
   "collapsed_sections": [],
   "name": "Copy of IRIS.ipynb",
   "provenance": [],
   "toc_visible": true
  },
  "kernelspec": {
   "display_name": "Python 3",
   "language": "python",
   "name": "python3"
  },
  "language_info": {
   "codemirror_mode": {
    "name": "ipython",
    "version": 3
   },
   "file_extension": ".py",
   "mimetype": "text/x-python",
   "name": "python",
   "nbconvert_exporter": "python",
   "pygments_lexer": "ipython3",
   "version": "3.8.8"
  }
 },
 "nbformat": 4,
 "nbformat_minor": 1
}
